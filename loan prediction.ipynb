import numpy as np 
import pandas as pd 
import seaborn as sns
import matplotlib.pyplot as plt
from sklearn import metrics
from time import time
import tensorflow as tf

# Google Drive Mount
from google.colab import drive
drive.mount('/content/drive')

%cd /content/drive/MyDrive/
%ls
PowerPoint Template'/
 Presentation/
 pretrained/
'Problem In my mind .gdoc'
'quil grammerly.gdoc'
 rawDataResful.csv
'Recommendation__Mahmudul Hasan Ashik.docx'
'Recommendation__Sabbir Ahmed'
'Related work.gdoc'
 Research/
 result.gsheet
 Sabbir/
 Samsung.gdoc
 sbcs.jpg
'Script for presentation.gdoc'
 Script.gdoc
'Slide - Advance Wireless.gdoc'
'Sohan vai .gdoc'
'template doc.gdoc'
 template.docx
'THF code explain.gdoc'
'Tour 2k21 zow tlang'/
' TRe.gdoc'
 um_road_000006.png
'Untitled document (10).gdoc'
'Untitled document (11).gdoc'
'Untitled document (12).gdoc'
'Untitled document (13).gdoc'
'Untitled document (1).gdoc'
'Untitled document (2).gdoc'
'Untitled document (3).gdoc'
'Untitled document (4).gdoc'
'Untitled document (5).gdoc'
'Untitled document (6).gdoc'
'Untitled document (7).gdoc'
'Untitled document (8).gdoc'
'Untitled document (9).gdoc'
'Untitled document.gdoc'
'Untitled document.pdf'
'Untitled Jam.gjam'
'Untitled spreadsheet (1).gsheet'
'Untitled spreadsheet (2).gsheet'
'Untitled spreadsheet (3).gsheet'
'Untitled spreadsheet (4).gsheet'
'Untitled spreadsheet (5).gsheet'
'Untitled spreadsheet (6).gsheet'
'Untitled spreadsheet (7).gsheet'
'Untitled spreadsheet (8).gsheet'
'Untitled spreadsheet.gsheet'
'Update 28.gdoc'
 VID_20210112_122241.mp4
 VID_20210112_123140.mp4
 VID_20210301_122737.mp4
'Walking speed'/
 Wireless.gdoc
'WMC Sugg.gdoc'
 Zia/
'নির্বাহী পরিষদ ২০২২.gdoc'
[ ]
path= '/content/drive/MyDrive/Research/Bank Loan/'
train= pd.read_csv(path+'credit_train.csv')
test = pd.read_csv(path+'credit_test.csv')
[ ]
train.head()
account_circle

[ ]
missing_values_count = train.isnull().sum()
missing_values_count
account_circle
Loan ID                           514
Customer ID                       514
Loan Status                       514
Current Loan Amount               514
Term                              514
Credit Score                    19668
Annual Income                   19668
Years in current job             4736
Home Ownership                    514
Purpose                           514
Monthly Debt                      514
Years of Credit History           514
Months since last delinquent    53655
Number of Open Accounts           514
Number of Credit Problems         514
Current Credit Balance            514
Maximum Open Credit               516
Bankruptcies                      718
Tax Liens                         524
dtype: int64
[ ]
train2= train[train['Loan Status'].notna()]
train2=train2.drop(columns=['Loan ID','Customer ID','Tax Liens'])
missing_values_count = train2.isnull().sum()
missing_values_count
account_circle
Loan Status                         0
Current Loan Amount                 0
Term                                0
Credit Score                    19154
Annual Income                   19154
Years in current job             4222
Home Ownership                      0
Purpose                             0
Monthly Debt                        0
Years of Credit History             0
Months since last delinquent    53141
Number of Open Accounts             0
Number of Credit Problems           0
Current Credit Balance              0
Maximum Open Credit                 2
Bankruptcies                      204
dtype: int64
[ ]
train2['Years in current job']=train2['Years in current job'].str.extract('(\d+)').astype(float)
#number majhe chilo regex marsi

numerical_cols = train2.select_dtypes(exclude=["object"]).columns
numerical_cols = list(numerical_cols)
numerical_cols.remove("Months since last delinquent")
#eida Zero fill kora jabe na

train2[numerical_cols] = train2[numerical_cols].fillna(0)
train2["Months since last delinquent"] = train2["Months since last delinquent"].fillna(1000)
#1000 month = 83 year , dhore nichi eida mainser boyos
[ ]
missing_values_count = train2.isnull().sum()
missing_values_count
account_circle
Loan Status                     0
Current Loan Amount             0
Term                            0
Credit Score                    0
Annual Income                   0
Years in current job            0
Home Ownership                  0
Purpose                         0
Monthly Debt                    0
Years of Credit History         0
Months since last delinquent    0
Number of Open Accounts         0
Number of Credit Problems       0
Current Credit Balance          0
Maximum Open Credit             0
Bankruptcies                    0
dtype: int64
[ ]
train2.dtypes
account_circle
Loan Status                      object
Current Loan Amount             float64
Term                             object
Credit Score                    float64
Annual Income                   float64
Years in current job            float64
Home Ownership                   object
Purpose                          object
Monthly Debt                    float64
Years of Credit History         float64
Months since last delinquent    float64
Number of Open Accounts         float64
Number of Credit Problems       float64
Current Credit Balance          float64
Maximum Open Credit             float64
Bankruptcies                    float64
dtype: object
[ ]
from sklearn.preprocessing import LabelEncoder
lencod= LabelEncoder()
categorical_cols = train2.select_dtypes(include=["object"]).columns
categorical_cols = list(categorical_cols)
for column in categorical_cols :
  lencod= LabelEncoder()
  leb = lencod.fit_transform(train2[column])
  
  print(lencod.classes_)
  #print(lencod.inverse_transform([0,1]))
  train2[column] = leb
account_circle
['Charged Off' 'Fully Paid']
['Long Term' 'Short Term']
['HaveMortgage' 'Home Mortgage' 'Own Home' 'Rent']
['Business Loan' 'Buy House' 'Buy a Car' 'Debt Consolidation'
 'Educational Expenses' 'Home Improvements' 'Medical Bills' 'Other'
 'Take a Trip' 'major_purchase' 'moving' 'other' 'renewable_energy'
 'small_business' 'vacation' 'wedding']
[ ]
train2.head()
account_circle

[ ]
train2[['Loan Status']].value_counts()
account_circle
Loan Status
1              77361
0              22639
dtype: int64
Dont Run From Here
[ ]
↳ 3 cells hidden
To Here
[ ]
pd.DataFrame.from_dict(train2).to_csv(path+'datset.csv',index=False)
[ ]
details=train2.describe()
details
account_circle

[ ]
maj=train2[train2['Loan Status']==1]
min=train2[train2['Loan Status']==0]
[ ]
from sklearn.utils import resample
minup=resample(min,replace=True,n_samples=77361)
data=pd.concat([minup,maj])
[ ]
data[['Loan Status']].value_counts()
account_circle
Loan Status
0              77361
1              77361
dtype: int64
[ ]
pd.DataFrame.from_dict(data).to_csv(path+'datsetBalanced.csv',index=False)
[ ]
plt.figure(figsize=(16, 16), dpi=80)
sns.heatmap(data.corr(), cmap="YlGnBu", annot=True)
plt.show()
account_circle

[ ]
xx=data.drop('Loan Status', axis=1)
y=data['Loan Status']
print(xx.shape)
y.shape
account_circle
(154722, 15)
(154722,)
[ ]
from sklearn.preprocessing import StandardScaler
from sklearn.pipeline import Pipeline

pipeline = Pipeline([
    ('std_scalar', StandardScaler())
])

x = pipeline.fit_transform(xx)
[ ]
details=xx.describe()
details
account_circle

[ ]
details=np.array(details)
details[1,1]
account_circle
0.6889970398521219
[ ]
pd.DataFrame.from_dict(details).to_csv(path+'stats.csv',index=False)
[ ]
from sklearn.model_selection import train_test_split
X_train, X_test, y_train, y_test = train_test_split(x, y, test_size=0.2, random_state=53)
print("train Size:" +str(y_train.shape))
print("test Size:" +str(y_test.shape))
account_circle
train Size:(123777,)
test Size:(30945,)
[ ]
from sklearn.ensemble import HistGradientBoostingClassifier
from sklearn.ensemble import RandomForestClassifier 
from sklearn.ensemble import AdaBoostClassifier 
from sklearn.ensemble import ExtraTreesClassifier
from sklearn.ensemble import GradientBoostingClassifier
from sklearn.svm import SVC 
from sklearn.neighbors import KNeighborsClassifier 
from sklearn.tree import DecisionTreeClassifier 
from xgboost import XGBClassifier 
[ ]
RF_Classifier = RandomForestClassifier()
RF_Classifier.fit(X_train, y_train)
account_circle
RandomForestClassifier()
[ ]

KNN_Classifier3= KNeighborsClassifier(n_neighbors=7)
KNN_Classifier3.fit(X_train, y_train)
KNN_Classifier4= KNeighborsClassifier(n_neighbors=11)
KNN_Classifier4.fit(X_train, y_train)
KNN_Classifier5= KNeighborsClassifier(n_neighbors=13)
KNN_Classifier5.fit(X_train, y_train)
KNN_Classifier7= KNeighborsClassifier(n_neighbors=17)
KNN_Classifier7.fit(X_train, y_train)

AdaB_Classifier = AdaBoostClassifier(n_estimators=20)
AdaB_Classifier.fit(X_train, y_train)

XGB_Classifier = XGBClassifier( learning_rate=0.05, n_estimators=100)
XGB_Classifier.fit(X_train, y_train)

account_circle

[ ]
models=[]
models.append(('AdaBoost Classifier',AdaB_Classifier))
models.append(('K- Nearest Neighbor Classifier 7',KNN_Classifier3))
models.append(('K- Nearest Neighbor Classifier 11',KNN_Classifier4))
models.append(('K- Nearest Neighbor Classifier 13',KNN_Classifier5))
models.append(('K- Nearest Neighbor Classifier 17',KNN_Classifier7))
models.append(('Extreme Gradient Boosting Classifier',XGB_Classifier))
models.append(('Random Forest Classifier',RF_Classifier))


account_circle

[ ]
from sklearn import metrics
from sklearn.model_selection import cross_val_score
Name= 'Loan'
res=[]
output=[]
output2=[]
for i, v in models:
    row= {}
    Xpred =  v.predict(X_train)
    scores = cross_val_score(v, X_train, y_train, cv=3)
    accuracy = metrics.accuracy_score(y_train, Xpred)
    confusion_matrix = metrics.confusion_matrix(y_train, Xpred)
    classification = metrics.classification_report(y_train, Xpred)
    #row.append(Name,i,num_feat)
    trainpred=Xpred
    
    lines = classification.split('\n')
    line = lines[7:-1][0]
    row_data = line.split('     ')
    row_data =[r_data.replace(' ','') for r_data in row_data]
    row['ML'] = i
    row ['Accuracy'] = accuracy
    row ['CV mean'] = scores.mean()
    row ['Precision'] = float(row_data[1])
    row ['Recall'] = float(row_data[2])
    row ['F1-Score'] = float(row_data[3])
    row ['TN'] = confusion_matrix[0][0]
    row ['FP'] = confusion_matrix[0][1]
    row ['FN'] = confusion_matrix[1][0]
    row ['TP'] = confusion_matrix[1][1]
    output.append('....................... {} Model Evaluation =============================='.format(i))
    output.append("\n\nCross Validation Mean Score: \n")
    output.append(scores.mean())
    output.append("\n\Model Accuracy: \n")
    output.append(accuracy)
    output.append("\n\Confusion matrix: \n")
    output.append(confusion_matrix)
    output.append("\n\Classification report: \n")
    output.append(classification)
    Xpred =  v.predict(X_test)
    scores = cross_val_score(v, X_test, y_test, cv=3)
    accuracy = metrics.accuracy_score(y_test, Xpred)
    confusion_matrix = metrics.confusion_matrix(y_test, Xpred)
    classification = metrics.classification_report(y_test, Xpred)
  
    lines = classification.split('\n')
    line = lines[7:-1][0]
    row_data = line.split('     ')
    row_data =[r_data.replace(' ','') for r_data in row_data]
    row ['Tst Accuracy'] = accuracy
    row ['Tst CV mean'] = scores.mean()
    row ['Tst Precision'] = float(row_data[1])
    row ['Tst Recall'] = float(row_data[2])
    row ['Tst F1-Score'] = float(row_data[3])
    row ['Tst TN'] = confusion_matrix[0][0]
    row ['Tst FP'] = confusion_matrix[0][1]
    row ['Tst FN'] = confusion_matrix[1][0]
    row ['Tst TP'] = confusion_matrix[1][1]
    output2.append('.......................{} test Model Evaluation =============================='.format(i))
    output2.append("Cross Validation Mean Score: ")
    output2.append(scores.mean())
    output2.append("Model Accuracy: ")
    output2.append(accuracy)
    output2.append("Confusion matrix:")
    output2.append(confusion_matrix)
    output2.append("Classification report:")
    output2.append(classification)
    res.append(row)
pd.DataFrame.from_dict(res).to_csv(path+"/"+Name+'v0.csv',index=False)
account_circle

[ ]
res=pd.DataFrame(res)
res
account_circle

[ ]
import tensorflow as tf # Imports tensorflow
#import tensorflow_addons as tfa
from tensorflow import keras
from tensorflow.keras.models import Sequential
from tensorflow.keras import layers
from tensorflow.keras.layers import Dense, Activation, Flatten, Dropout, BatchNormalization,Embedding
from tensorflow.keras.layers import Conv2D, MaxPooling2D,LSTM,Bidirectional,Attention,Concatenate,GlobalAveragePooling2D, Conv1D, MaxPooling1D,GlobalAveragePooling1D
from tensorflow.keras import regularizers, optimizers,losses
from tensorflow.keras.metrics import Recall,Precision,AUC,TruePositives,TrueNegatives,FalseNegatives,FalsePositives, SpecificityAtSensitivity,SensitivityAtSpecificity
from tensorflow.keras.utils import plot_model
from tensorflow.keras.preprocessing import image
from tensorflow.keras.utils import to_categorical
from tensorflow.python.keras.utils import np_utils
from tensorflow.keras.applications.vgg19 import VGG19
from tensorflow.keras.applications.resnet_v2 import ResNet152V2

from tensorflow.keras.applications.efficientnet import EfficientNetB0
[ ]
X_train.shape
account_circle
(123777, 15)
[ ]
model = Sequential()
model.add(Dense(512,activation='relu',input_dim=15))
model.add(Dropout(0.25))
model.add(Dense(256,activation='relu'))
model.add(BatchNormalization(axis=-1))
model.add(Dropout(0.25))
model.add(Dense(128,activation='relu'))
model.add(BatchNormalization(axis=-1))
model.add(Dropout(0.25))
model.add(Dense(64,activation='sigmoid'))
model.add(BatchNormalization(axis=-1))
model.add(Dropout(0.25))
model.add(Dense(1,activation='sigmoid'))
model.compile(optimizer=tf.keras.optimizers.Adam(), loss='binary_crossentropy', metrics=['accuracy', Precision(), Recall()])
history = model.fit(X_train, y_train, 
                    validation_data=(X_test, y_test), epochs=10, batch_size=2048)
account_circle
Epoch 1/10
61/61 [==============================] - 6s 26ms/step - loss: 0.6286 - accuracy: 0.6191 - precision: 0.6145 - recall: 0.6424 - val_loss: 0.6303 - val_accuracy: 0.5777 - val_precision: 0.9966 - val_recall: 0.1509
Epoch 2/10
61/61 [==============================] - 1s 9ms/step - loss: 0.5788 - accuracy: 0.6377 - precision: 0.6294 - recall: 0.6725 - val_loss: 0.5957 - val_accuracy: 0.5940 - val_precision: 0.8997 - val_recall: 0.2063
Epoch 3/10
61/61 [==============================] - 0s 8ms/step - loss: 0.5663 - accuracy: 0.6441 - precision: 0.6334 - recall: 0.6868 - val_loss: 0.5776 - val_accuracy: 0.6139 - val_precision: 0.8075 - val_recall: 0.2932
Epoch 4/10
61/61 [==============================] - 1s 8ms/step - loss: 0.5609 - accuracy: 0.6477 - precision: 0.6357 - recall: 0.6944 - val_loss: 0.5641 - val_accuracy: 0.6524 - val_precision: 0.7033 - val_recall: 0.5201
Epoch 5/10
61/61 [==============================] - 1s 9ms/step - loss: 0.5569 - accuracy: 0.6534 - precision: 0.6407 - recall: 0.7008 - val_loss: 0.5563 - val_accuracy: 0.6619 - val_precision: 0.6700 - val_recall: 0.6302
Epoch 6/10
61/61 [==============================] - 0s 8ms/step - loss: 0.5549 - accuracy: 0.6564 - precision: 0.6433 - recall: 0.7042 - val_loss: 0.5511 - val_accuracy: 0.6658 - val_precision: 0.6519 - val_recall: 0.7034
Epoch 7/10
61/61 [==============================] - 1s 8ms/step - loss: 0.5539 - accuracy: 0.6572 - precision: 0.6444 - recall: 0.7035 - val_loss: 0.5505 - val_accuracy: 0.6621 - val_precision: 0.6847 - val_recall: 0.5934
Epoch 8/10
61/61 [==============================] - 0s 8ms/step - loss: 0.5525 - accuracy: 0.6599 - precision: 0.6473 - recall: 0.7052 - val_loss: 0.5485 - val_accuracy: 0.6667 - val_precision: 0.6590 - val_recall: 0.6828
Epoch 9/10
61/61 [==============================] - 0s 8ms/step - loss: 0.5512 - accuracy: 0.6621 - precision: 0.6494 - recall: 0.7066 - val_loss: 0.5465 - val_accuracy: 0.6664 - val_precision: 0.6472 - val_recall: 0.7230
Epoch 10/10
61/61 [==============================] - 0s 8ms/step - loss: 0.5506 - accuracy: 0.6622 - precision: 0.6515 - recall: 0.6997 - val_loss: 0.5456 - val_accuracy: 0.6670 - val_precision: 0.6537 - val_recall: 0.7018
[ ]
history = model.fit(X_train, y_train, 
                    validation_data=(X_test, y_test), epochs=300, batch_size=2048)
account_circle
Epoch 1/300
61/61 [==============================] - 1s 9ms/step - loss: 0.5499 - accuracy: 0.6637 - precision: 0.6508 - recall: 0.7086 - val_loss: 0.5460 - val_accuracy: 0.6640 - val_precision: 0.6297 - val_recall: 0.7865
Epoch 2/300
61/61 [==============================] - 0s 8ms/step - loss: 0.5490 - accuracy: 0.6651 - precision: 0.6526 - recall: 0.7081 - val_loss: 0.5447 - val_accuracy: 0.6682 - val_precision: 0.6498 - val_recall: 0.7214
Epoch 3/300
61/61 [==============================] - 1s 8ms/step - loss: 0.5484 - accuracy: 0.6653 - precision: 0.6541 - recall: 0.7038 - val_loss: 0.5443 - val_accuracy: 0.6694 - val_precision: 0.6432 - val_recall: 0.7523
Epoch 4/300
61/61 [==============================] - 1s 8ms/step - loss: 0.5479 - accuracy: 0.6665 - precision: 0.6529 - recall: 0.7133 - val_loss: 0.5445 - val_accuracy: 0.6700 - val_precision: 0.6573 - val_recall: 0.7025
Epoch 5/300
61/61 [==============================] - 1s 9ms/step - loss: 0.5474 - accuracy: 0.6664 - precision: 0.6537 - recall: 0.7100 - val_loss: 0.5436 - val_accuracy: 0.6703 - val_precision: 0.6589 - val_recall: 0.6983
Epoch 6/300
61/61 [==============================] - 0s 8ms/step - loss: 0.5463 - accuracy: 0.6684 - precision: 0.6589 - recall: 0.7003 - val_loss: 0.5443 - val_accuracy: 0.6676 - val_precision: 0.6876 - val_recall: 0.6074
Epoch 7/300
61/61 [==============================] - 1s 9ms/step - loss: 0.5457 - accuracy: 0.6696 - precision: 0.6576 - recall: 0.7098 - val_loss: 0.5427 - val_accuracy: 0.6729 - val_precision: 0.6473 - val_recall: 0.7513
Epoch 8/300
61/61 [==============================] - 1s 8ms/step - loss: 0.5450 - accuracy: 0.6696 - precision: 0.6598 - recall: 0.7024 - val_loss: 0.5416 - val_accuracy: 0.6730 - val_precision: 0.6514 - val_recall: 0.7362
Epoch 9/300
61/61 [==============================] - 0s 8ms/step - loss: 0.5451 - accuracy: 0.6700 - precision: 0.6578 - recall: 0.7109 - val_loss: 0.5416 - val_accuracy: 0.6747 - val_precision: 0.6631 - val_recall: 0.7026
Epoch 10/300
61/61 [==============================] - 0s 8ms/step - loss: 0.5442 - accuracy: 0.6709 - precision: 0.6597 - recall: 0.7080 - val_loss: 0.5421 - val_accuracy: 0.6730 - val_precision: 0.6353 - val_recall: 0.8034
Epoch 11/300
61/61 [==============================] - 0s 8ms/step - loss: 0.5438 - accuracy: 0.6724 - precision: 0.6611 - recall: 0.7091 - val_loss: 0.5409 - val_accuracy: 0.6750 - val_precision: 0.6535 - val_recall: 0.7369
Epoch 12/300
61/61 [==============================] - 0s 8ms/step - loss: 0.5425 - accuracy: 0.6732 - precision: 0.6614 - recall: 0.7116 - val_loss: 0.5411 - val_accuracy: 0.6733 - val_precision: 0.6571 - val_recall: 0.7167
Epoch 13/300
61/61 [==============================] - 0s 8ms/step - loss: 0.5425 - accuracy: 0.6738 - precision: 0.6641 - recall: 0.7052 - val_loss: 0.5419 - val_accuracy: 0.6730 - val_precision: 0.6421 - val_recall: 0.7732
Epoch 14/300
61/61 [==============================] - 0s 8ms/step - loss: 0.5418 - accuracy: 0.6743 - precision: 0.6632 - recall: 0.7102 - val_loss: 0.5405 - val_accuracy: 0.6736 - val_precision: 0.6603 - val_recall: 0.7073
Epoch 15/300
61/61 [==============================] - 0s 8ms/step - loss: 0.5410 - accuracy: 0.6744 - precision: 0.6661 - recall: 0.7010 - val_loss: 0.5396 - val_accuracy: 0.6749 - val_precision: 0.6471 - val_recall: 0.7609
Epoch 16/300
61/61 [==============================] - 1s 8ms/step - loss: 0.5410 - accuracy: 0.6760 - precision: 0.6632 - recall: 0.7171 - val_loss: 0.5400 - val_accuracy: 0.6747 - val_precision: 0.6704 - val_recall: 0.6798
Epoch 17/300
61/61 [==============================] - 1s 9ms/step - loss: 0.5399 - accuracy: 0.6763 - precision: 0.6667 - recall: 0.7067 - val_loss: 0.5383 - val_accuracy: 0.6775 - val_precision: 0.6677 - val_recall: 0.6991
Epoch 18/300
61/61 [==============================] - 0s 8ms/step - loss: 0.5397 - accuracy: 0.6765 - precision: 0.6665 - recall: 0.7083 - val_loss: 0.5378 - val_accuracy: 0.6775 - val_precision: 0.6558 - val_recall: 0.7395
Epoch 19/300
61/61 [==============================] - 0s 8ms/step - loss: 0.5389 - accuracy: 0.6777 - precision: 0.6666 - recall: 0.7128 - val_loss: 0.5398 - val_accuracy: 0.6757 - val_precision: 0.6378 - val_recall: 0.8048
Epoch 20/300
61/61 [==============================] - 0s 8ms/step - loss: 0.5379 - accuracy: 0.6787 - precision: 0.6663 - recall: 0.7178 - val_loss: 0.5370 - val_accuracy: 0.6781 - val_precision: 0.6618 - val_recall: 0.7209
Epoch 21/300
61/61 [==============================] - 1s 8ms/step - loss: 0.5376 - accuracy: 0.6798 - precision: 0.6713 - recall: 0.7066 - val_loss: 0.5354 - val_accuracy: 0.6793 - val_precision: 0.6655 - val_recall: 0.7136
Epoch 22/300
61/61 [==============================] - 1s 9ms/step - loss: 0.5371 - accuracy: 0.6798 - precision: 0.6724 - recall: 0.7031 - val_loss: 0.5369 - val_accuracy: 0.6794 - val_precision: 0.6634 - val_recall: 0.7207
Epoch 23/300
61/61 [==============================] - 1s 9ms/step - loss: 0.5361 - accuracy: 0.6805 - precision: 0.6703 - recall: 0.7123 - val_loss: 0.5352 - val_accuracy: 0.6816 - val_precision: 0.6670 - val_recall: 0.7179
Epoch 24/300
61/61 [==============================] - 1s 8ms/step - loss: 0.5354 - accuracy: 0.6811 - precision: 0.6741 - recall: 0.7031 - val_loss: 0.5352 - val_accuracy: 0.6814 - val_precision: 0.6659 - val_recall: 0.7208
Epoch 25/300
61/61 [==============================] - 1s 9ms/step - loss: 0.5342 - accuracy: 0.6825 - precision: 0.6730 - recall: 0.7117 - val_loss: 0.5355 - val_accuracy: 0.6794 - val_precision: 0.6488 - val_recall: 0.7742
Epoch 26/300
61/61 [==============================] - 1s 8ms/step - loss: 0.5335 - accuracy: 0.6843 - precision: 0.6757 - recall: 0.7104 - val_loss: 0.5349 - val_accuracy: 0.6810 - val_precision: 0.6468 - val_recall: 0.7894
Epoch 27/300
61/61 [==============================] - 0s 8ms/step - loss: 0.5333 - accuracy: 0.6824 - precision: 0.6725 - recall: 0.7126 - val_loss: 0.5346 - val_accuracy: 0.6820 - val_precision: 0.6522 - val_recall: 0.7717
Epoch 28/300
61/61 [==============================] - 0s 8ms/step - loss: 0.5325 - accuracy: 0.6839 - precision: 0.6762 - recall: 0.7074 - val_loss: 0.5344 - val_accuracy: 0.6816 - val_precision: 0.6471 - val_recall: 0.7905
Epoch 29/300
61/61 [==============================] - 0s 8ms/step - loss: 0.5321 - accuracy: 0.6836 - precision: 0.6746 - recall: 0.7112 - val_loss: 0.5329 - val_accuracy: 0.6844 - val_precision: 0.6687 - val_recall: 0.7238
Epoch 30/300
61/61 [==============================] - 0s 8ms/step - loss: 0.5311 - accuracy: 0.6863 - precision: 0.6789 - recall: 0.7086 - val_loss: 0.5322 - val_accuracy: 0.6870 - val_precision: 0.6595 - val_recall: 0.7658
Epoch 31/300
61/61 [==============================] - 0s 8ms/step - loss: 0.5306 - accuracy: 0.6868 - precision: 0.6771 - recall: 0.7160 - val_loss: 0.5313 - val_accuracy: 0.6827 - val_precision: 0.6582 - val_recall: 0.7523
Epoch 32/300
61/61 [==============================] - 1s 8ms/step - loss: 0.5291 - accuracy: 0.6879 - precision: 0.6785 - recall: 0.7157 - val_loss: 0.5298 - val_accuracy: 0.6870 - val_precision: 0.6885 - val_recall: 0.6764
Epoch 33/300
61/61 [==============================] - 1s 8ms/step - loss: 0.5284 - accuracy: 0.6891 - precision: 0.6816 - recall: 0.7113 - val_loss: 0.5305 - val_accuracy: 0.6850 - val_precision: 0.6656 - val_recall: 0.7363
Epoch 34/300
61/61 [==============================] - 1s 8ms/step - loss: 0.5273 - accuracy: 0.6897 - precision: 0.6825 - recall: 0.7109 - val_loss: 0.5298 - val_accuracy: 0.6867 - val_precision: 0.6634 - val_recall: 0.7508
Epoch 35/300
61/61 [==============================] - 1s 8ms/step - loss: 0.5265 - accuracy: 0.6895 - precision: 0.6804 - recall: 0.7162 - val_loss: 0.5272 - val_accuracy: 0.6884 - val_precision: 0.6851 - val_recall: 0.6908
Epoch 36/300
61/61 [==============================] - 0s 8ms/step - loss: 0.5253 - accuracy: 0.6917 - precision: 0.6845 - recall: 0.7128 - val_loss: 0.5285 - val_accuracy: 0.6893 - val_precision: 0.6869 - val_recall: 0.6889
Epoch 37/300
61/61 [==============================] - 0s 8ms/step - loss: 0.5255 - accuracy: 0.6918 - precision: 0.6871 - recall: 0.7060 - val_loss: 0.5261 - val_accuracy: 0.6896 - val_precision: 0.6720 - val_recall: 0.7337
Epoch 38/300
61/61 [==============================] - 0s 8ms/step - loss: 0.5247 - accuracy: 0.6920 - precision: 0.6832 - recall: 0.7174 - val_loss: 0.5248 - val_accuracy: 0.6899 - val_precision: 0.6713 - val_recall: 0.7369
Epoch 39/300
61/61 [==============================] - 0s 8ms/step - loss: 0.5230 - accuracy: 0.6944 - precision: 0.6873 - recall: 0.7150 - val_loss: 0.5246 - val_accuracy: 0.6901 - val_precision: 0.6712 - val_recall: 0.7383
Epoch 40/300
61/61 [==============================] - 0s 8ms/step - loss: 0.5224 - accuracy: 0.6959 - precision: 0.6898 - recall: 0.7135 - val_loss: 0.5255 - val_accuracy: 0.6917 - val_precision: 0.6643 - val_recall: 0.7679
Epoch 41/300
61/61 [==============================] - 1s 8ms/step - loss: 0.5223 - accuracy: 0.6936 - precision: 0.6866 - recall: 0.7139 - val_loss: 0.5239 - val_accuracy: 0.6914 - val_precision: 0.6867 - val_recall: 0.6973
Epoch 42/300
61/61 [==============================] - 0s 8ms/step - loss: 0.5209 - accuracy: 0.6965 - precision: 0.6910 - recall: 0.7125 - val_loss: 0.5247 - val_accuracy: 0.6933 - val_precision: 0.6892 - val_recall: 0.6975
Epoch 43/300
61/61 [==============================] - 1s 8ms/step - loss: 0.5197 - accuracy: 0.6962 - precision: 0.6916 - recall: 0.7098 - val_loss: 0.5228 - val_accuracy: 0.6953 - val_precision: 0.6787 - val_recall: 0.7351
Epoch 44/300
61/61 [==============================] - 0s 8ms/step - loss: 0.5183 - accuracy: 0.6990 - precision: 0.6930 - recall: 0.7161 - val_loss: 0.5222 - val_accuracy: 0.6967 - val_precision: 0.6834 - val_recall: 0.7263
Epoch 45/300
61/61 [==============================] - 0s 8ms/step - loss: 0.5180 - accuracy: 0.6983 - precision: 0.6929 - recall: 0.7139 - val_loss: 0.5223 - val_accuracy: 0.6950 - val_precision: 0.7059 - val_recall: 0.6624
Epoch 46/300
61/61 [==============================] - 1s 8ms/step - loss: 0.5165 - accuracy: 0.6995 - precision: 0.6941 - recall: 0.7149 - val_loss: 0.5201 - val_accuracy: 0.6971 - val_precision: 0.7071 - val_recall: 0.6670
Epoch 47/300
61/61 [==============================] - 1s 9ms/step - loss: 0.5164 - accuracy: 0.6996 - precision: 0.6972 - recall: 0.7073 - val_loss: 0.5199 - val_accuracy: 0.6980 - val_precision: 0.6893 - val_recall: 0.7148
Epoch 48/300
61/61 [==============================] - 0s 8ms/step - loss: 0.5156 - accuracy: 0.7004 - precision: 0.6941 - recall: 0.7182 - val_loss: 0.5190 - val_accuracy: 0.6995 - val_precision: 0.6871 - val_recall: 0.7264
Epoch 49/300
61/61 [==============================] - 0s 8ms/step - loss: 0.5149 - accuracy: 0.7016 - precision: 0.6994 - recall: 0.7088 - val_loss: 0.5194 - val_accuracy: 0.7001 - val_precision: 0.6961 - val_recall: 0.7042
Epoch 50/300
61/61 [==============================] - 0s 8ms/step - loss: 0.5127 - accuracy: 0.7042 - precision: 0.7034 - recall: 0.7075 - val_loss: 0.5166 - val_accuracy: 0.6997 - val_precision: 0.6767 - val_recall: 0.7581
Epoch 51/300
61/61 [==============================] - 0s 8ms/step - loss: 0.5116 - accuracy: 0.7026 - precision: 0.6988 - recall: 0.7136 - val_loss: 0.5165 - val_accuracy: 0.7033 - val_precision: 0.6777 - val_recall: 0.7686
Epoch 52/300
61/61 [==============================] - 1s 8ms/step - loss: 0.5107 - accuracy: 0.7062 - precision: 0.7016 - recall: 0.7192 - val_loss: 0.5144 - val_accuracy: 0.7040 - val_precision: 0.6938 - val_recall: 0.7241
Epoch 53/300
61/61 [==============================] - 1s 9ms/step - loss: 0.5103 - accuracy: 0.7063 - precision: 0.7018 - recall: 0.7190 - val_loss: 0.5143 - val_accuracy: 0.7035 - val_precision: 0.6912 - val_recall: 0.7294
Epoch 54/300
61/61 [==============================] - 0s 8ms/step - loss: 0.5096 - accuracy: 0.7061 - precision: 0.7012 - recall: 0.7199 - val_loss: 0.5123 - val_accuracy: 0.7054 - val_precision: 0.7089 - val_recall: 0.6913
Epoch 55/300
61/61 [==============================] - 1s 9ms/step - loss: 0.5074 - accuracy: 0.7092 - precision: 0.7086 - recall: 0.7121 - val_loss: 0.5120 - val_accuracy: 0.7073 - val_precision: 0.6852 - val_recall: 0.7607
Epoch 56/300
61/61 [==============================] - 0s 8ms/step - loss: 0.5088 - accuracy: 0.7070 - precision: 0.7044 - recall: 0.7147 - val_loss: 0.5121 - val_accuracy: 0.7066 - val_precision: 0.6895 - val_recall: 0.7453
Epoch 57/300
61/61 [==============================] - 1s 8ms/step - loss: 0.5070 - accuracy: 0.7091 - precision: 0.7064 - recall: 0.7169 - val_loss: 0.5109 - val_accuracy: 0.7080 - val_precision: 0.7105 - val_recall: 0.6964
Epoch 58/300
61/61 [==============================] - 0s 8ms/step - loss: 0.5061 - accuracy: 0.7098 - precision: 0.7091 - recall: 0.7128 - val_loss: 0.5105 - val_accuracy: 0.7120 - val_precision: 0.7123 - val_recall: 0.7058
Epoch 59/300
61/61 [==============================] - 1s 8ms/step - loss: 0.5041 - accuracy: 0.7127 - precision: 0.7106 - recall: 0.7192 - val_loss: 0.5085 - val_accuracy: 0.7107 - val_precision: 0.7098 - val_recall: 0.7071
Epoch 60/300
61/61 [==============================] - 1s 8ms/step - loss: 0.5038 - accuracy: 0.7119 - precision: 0.7098 - recall: 0.7185 - val_loss: 0.5080 - val_accuracy: 0.7103 - val_precision: 0.7059 - val_recall: 0.7153
Epoch 61/300
61/61 [==============================] - 1s 8ms/step - loss: 0.5020 - accuracy: 0.7140 - precision: 0.7149 - recall: 0.7133 - val_loss: 0.5074 - val_accuracy: 0.7130 - val_precision: 0.7000 - val_recall: 0.7399
Epoch 62/300
61/61 [==============================] - 0s 8ms/step - loss: 0.5030 - accuracy: 0.7126 - precision: 0.7110 - recall: 0.7179 - val_loss: 0.5076 - val_accuracy: 0.7134 - val_precision: 0.7164 - val_recall: 0.7009
Epoch 63/300
61/61 [==============================] - 1s 9ms/step - loss: 0.5005 - accuracy: 0.7146 - precision: 0.7142 - recall: 0.7171 - val_loss: 0.5062 - val_accuracy: 0.7121 - val_precision: 0.7053 - val_recall: 0.7228
Epoch 64/300
61/61 [==============================] - 0s 8ms/step - loss: 0.5002 - accuracy: 0.7150 - precision: 0.7136 - recall: 0.7197 - val_loss: 0.5072 - val_accuracy: 0.7117 - val_precision: 0.7419 - val_recall: 0.6440
Epoch 65/300
61/61 [==============================] - 1s 9ms/step - loss: 0.4991 - accuracy: 0.7164 - precision: 0.7177 - recall: 0.7149 - val_loss: 0.5051 - val_accuracy: 0.7141 - val_precision: 0.7213 - val_recall: 0.6923
Epoch 66/300
61/61 [==============================] - 0s 8ms/step - loss: 0.4980 - accuracy: 0.7182 - precision: 0.7199 - recall: 0.7157 - val_loss: 0.5032 - val_accuracy: 0.7160 - val_precision: 0.7184 - val_recall: 0.7053
Epoch 67/300
61/61 [==============================] - 1s 9ms/step - loss: 0.4968 - accuracy: 0.7195 - precision: 0.7237 - recall: 0.7115 - val_loss: 0.5043 - val_accuracy: 0.7151 - val_precision: 0.6948 - val_recall: 0.7612
Epoch 68/300
61/61 [==============================] - 1s 8ms/step - loss: 0.4962 - accuracy: 0.7197 - precision: 0.7213 - recall: 0.7175 - val_loss: 0.5011 - val_accuracy: 0.7177 - val_precision: 0.7048 - val_recall: 0.7437
Epoch 69/300
61/61 [==============================] - 1s 9ms/step - loss: 0.4944 - accuracy: 0.7202 - precision: 0.7199 - recall: 0.7220 - val_loss: 0.5010 - val_accuracy: 0.7180 - val_precision: 0.7161 - val_recall: 0.7168
Epoch 70/300
61/61 [==============================] - 1s 8ms/step - loss: 0.4931 - accuracy: 0.7224 - precision: 0.7235 - recall: 0.7213 - val_loss: 0.5004 - val_accuracy: 0.7176 - val_precision: 0.7161 - val_recall: 0.7157
Epoch 71/300
61/61 [==============================] - 1s 9ms/step - loss: 0.4936 - accuracy: 0.7214 - precision: 0.7223 - recall: 0.7207 - val_loss: 0.4985 - val_accuracy: 0.7226 - val_precision: 0.7179 - val_recall: 0.7283
Epoch 72/300
61/61 [==============================] - 1s 8ms/step - loss: 0.4923 - accuracy: 0.7237 - precision: 0.7292 - recall: 0.7129 - val_loss: 0.4997 - val_accuracy: 0.7193 - val_precision: 0.6981 - val_recall: 0.7670
Epoch 73/300
61/61 [==============================] - 1s 9ms/step - loss: 0.4912 - accuracy: 0.7236 - precision: 0.7256 - recall: 0.7203 - val_loss: 0.4962 - val_accuracy: 0.7233 - val_precision: 0.7186 - val_recall: 0.7285
Epoch 74/300
61/61 [==============================] - 1s 8ms/step - loss: 0.4906 - accuracy: 0.7237 - precision: 0.7254 - recall: 0.7214 - val_loss: 0.4963 - val_accuracy: 0.7217 - val_precision: 0.7145 - val_recall: 0.7333
Epoch 75/300
61/61 [==============================] - 1s 8ms/step - loss: 0.4891 - accuracy: 0.7255 - precision: 0.7252 - recall: 0.7274 - val_loss: 0.4967 - val_accuracy: 0.7220 - val_precision: 0.7371 - val_recall: 0.6852
Epoch 76/300
61/61 [==============================] - 1s 8ms/step - loss: 0.4885 - accuracy: 0.7258 - precision: 0.7288 - recall: 0.7204 - val_loss: 0.4961 - val_accuracy: 0.7258 - val_precision: 0.7305 - val_recall: 0.7105
Epoch 77/300
61/61 [==============================] - 1s 8ms/step - loss: 0.4873 - accuracy: 0.7268 - precision: 0.7292 - recall: 0.7226 - val_loss: 0.4946 - val_accuracy: 0.7233 - val_precision: 0.7480 - val_recall: 0.6687
Epoch 78/300
61/61 [==============================] - 0s 8ms/step - loss: 0.4855 - accuracy: 0.7284 - precision: 0.7332 - recall: 0.7193 - val_loss: 0.4947 - val_accuracy: 0.7238 - val_precision: 0.7300 - val_recall: 0.7051
Epoch 79/300
61/61 [==============================] - 1s 8ms/step - loss: 0.4866 - accuracy: 0.7269 - precision: 0.7323 - recall: 0.7167 - val_loss: 0.4948 - val_accuracy: 0.7268 - val_precision: 0.7373 - val_recall: 0.6999
Epoch 80/300
61/61 [==============================] - 1s 8ms/step - loss: 0.4854 - accuracy: 0.7286 - precision: 0.7317 - recall: 0.7232 - val_loss: 0.4928 - val_accuracy: 0.7244 - val_precision: 0.7449 - val_recall: 0.6777
Epoch 81/300
61/61 [==============================] - 1s 8ms/step - loss: 0.4845 - accuracy: 0.7287 - precision: 0.7339 - recall: 0.7188 - val_loss: 0.4906 - val_accuracy: 0.7270 - val_precision: 0.7513 - val_recall: 0.6738
Epoch 82/300
61/61 [==============================] - 1s 8ms/step - loss: 0.4840 - accuracy: 0.7301 - precision: 0.7327 - recall: 0.7258 - val_loss: 0.4908 - val_accuracy: 0.7280 - val_precision: 0.7349 - val_recall: 0.7083
Epoch 83/300
61/61 [==============================] - 1s 8ms/step - loss: 0.4824 - accuracy: 0.7313 - precision: 0.7383 - recall: 0.7178 - val_loss: 0.4897 - val_accuracy: 0.7287 - val_precision: 0.7216 - val_recall: 0.7397
Epoch 84/300
61/61 [==============================] - 1s 8ms/step - loss: 0.4812 - accuracy: 0.7338 - precision: 0.7370 - recall: 0.7282 - val_loss: 0.4881 - val_accuracy: 0.7298 - val_precision: 0.7286 - val_recall: 0.7274
Epoch 85/300
61/61 [==============================] - 1s 9ms/step - loss: 0.4801 - accuracy: 0.7334 - precision: 0.7364 - recall: 0.7282 - val_loss: 0.4890 - val_accuracy: 0.7299 - val_precision: 0.7522 - val_recall: 0.6810
Epoch 86/300
61/61 [==============================] - 1s 9ms/step - loss: 0.4800 - accuracy: 0.7340 - precision: 0.7399 - recall: 0.7230 - val_loss: 0.4885 - val_accuracy: 0.7292 - val_precision: 0.7297 - val_recall: 0.7230
Epoch 87/300
61/61 [==============================] - 1s 8ms/step - loss: 0.4801 - accuracy: 0.7337 - precision: 0.7351 - recall: 0.7317 - val_loss: 0.4882 - val_accuracy: 0.7317 - val_precision: 0.7597 - val_recall: 0.6733
Epoch 88/300
61/61 [==============================] - 1s 8ms/step - loss: 0.4795 - accuracy: 0.7338 - precision: 0.7422 - recall: 0.7176 - val_loss: 0.4873 - val_accuracy: 0.7315 - val_precision: 0.7366 - val_recall: 0.7159
Epoch 89/300
61/61 [==============================] - 1s 8ms/step - loss: 0.4783 - accuracy: 0.7351 - precision: 0.7373 - recall: 0.7316 - val_loss: 0.4877 - val_accuracy: 0.7308 - val_precision: 0.7629 - val_recall: 0.6654
Epoch 90/300
61/61 [==============================] - 0s 8ms/step - loss: 0.4770 - accuracy: 0.7344 - precision: 0.7411 - recall: 0.7216 - val_loss: 0.4849 - val_accuracy: 0.7328 - val_precision: 0.7339 - val_recall: 0.7255
Epoch 91/300
61/61 [==============================] - 1s 9ms/step - loss: 0.4771 - accuracy: 0.7360 - precision: 0.7387 - recall: 0.7313 - val_loss: 0.4881 - val_accuracy: 0.7292 - val_precision: 0.7750 - val_recall: 0.6416
Epoch 92/300
61/61 [==============================] - 1s 9ms/step - loss: 0.4751 - accuracy: 0.7376 - precision: 0.7448 - recall: 0.7240 - val_loss: 0.4855 - val_accuracy: 0.7343 - val_precision: 0.7411 - val_recall: 0.7154
Epoch 93/300
61/61 [==============================] - 1s 9ms/step - loss: 0.4746 - accuracy: 0.7378 - precision: 0.7434 - recall: 0.7274 - val_loss: 0.4818 - val_accuracy: 0.7373 - val_precision: 0.7405 - val_recall: 0.7258
Epoch 94/300
61/61 [==============================] - 1s 9ms/step - loss: 0.4730 - accuracy: 0.7393 - precision: 0.7438 - recall: 0.7313 - val_loss: 0.4827 - val_accuracy: 0.7362 - val_precision: 0.7375 - val_recall: 0.7285
Epoch 95/300
61/61 [==============================] - 1s 9ms/step - loss: 0.4717 - accuracy: 0.7416 - precision: 0.7489 - recall: 0.7281 - val_loss: 0.4806 - val_accuracy: 0.7388 - val_precision: 0.7513 - val_recall: 0.7094
Epoch 96/300
61/61 [==============================] - 1s 9ms/step - loss: 0.4718 - accuracy: 0.7406 - precision: 0.7472 - recall: 0.7283 - val_loss: 0.4808 - val_accuracy: 0.7379 - val_precision: 0.7342 - val_recall: 0.7409
Epoch 97/300
61/61 [==============================] - 1s 8ms/step - loss: 0.4725 - accuracy: 0.7404 - precision: 0.7461 - recall: 0.7300 - val_loss: 0.4802 - val_accuracy: 0.7378 - val_precision: 0.7399 - val_recall: 0.7288
Epoch 98/300
61/61 [==============================] - 1s 8ms/step - loss: 0.4718 - accuracy: 0.7408 - precision: 0.7469 - recall: 0.7295 - val_loss: 0.4798 - val_accuracy: 0.7395 - val_precision: 0.7703 - val_recall: 0.6782
Epoch 99/300
61/61 [==============================] - 1s 8ms/step - loss: 0.4701 - accuracy: 0.7429 - precision: 0.7473 - recall: 0.7352 - val_loss: 0.4786 - val_accuracy: 0.7378 - val_precision: 0.7518 - val_recall: 0.7054
Epoch 100/300
61/61 [==============================] - 1s 8ms/step - loss: 0.4707 - accuracy: 0.7422 - precision: 0.7496 - recall: 0.7287 - val_loss: 0.4793 - val_accuracy: 0.7413 - val_precision: 0.7679 - val_recall: 0.6874
Epoch 101/300
61/61 [==============================] - 0s 8ms/step - loss: 0.4702 - accuracy: 0.7426 - precision: 0.7467 - recall: 0.7353 - val_loss: 0.4786 - val_accuracy: 0.7395 - val_precision: 0.7629 - val_recall: 0.6906
Epoch 102/300
61/61 [==============================] - 1s 9ms/step - loss: 0.4687 - accuracy: 0.7432 - precision: 0.7478 - recall: 0.7349 - val_loss: 0.4780 - val_accuracy: 0.7409 - val_precision: 0.7737 - val_recall: 0.6767
Epoch 103/300
61/61 [==============================] - 1s 8ms/step - loss: 0.4668 - accuracy: 0.7443 - precision: 0.7510 - recall: 0.7323 - val_loss: 0.4771 - val_accuracy: 0.7415 - val_precision: 0.7655 - val_recall: 0.6921
Epoch 104/300
61/61 [==============================] - 1s 8ms/step - loss: 0.4664 - accuracy: 0.7445 - precision: 0.7510 - recall: 0.7327 - val_loss: 0.4746 - val_accuracy: 0.7440 - val_precision: 0.7557 - val_recall: 0.7166
Epoch 105/300
61/61 [==============================] - 1s 8ms/step - loss: 0.4660 - accuracy: 0.7441 - precision: 0.7512 - recall: 0.7310 - val_loss: 0.4759 - val_accuracy: 0.7408 - val_precision: 0.7587 - val_recall: 0.7017
Epoch 106/300
61/61 [==============================] - 1s 8ms/step - loss: 0.4647 - accuracy: 0.7470 - precision: 0.7513 - recall: 0.7395 - val_loss: 0.4745 - val_accuracy: 0.7427 - val_precision: 0.7558 - val_recall: 0.7126
Epoch 107/300
61/61 [==============================] - 1s 8ms/step - loss: 0.4653 - accuracy: 0.7461 - precision: 0.7510 - recall: 0.7375 - val_loss: 0.4732 - val_accuracy: 0.7460 - val_precision: 0.7598 - val_recall: 0.7152
Epoch 108/300
61/61 [==============================] - 1s 8ms/step - loss: 0.4631 - accuracy: 0.7473 - precision: 0.7539 - recall: 0.7354 - val_loss: 0.4729 - val_accuracy: 0.7424 - val_precision: 0.7371 - val_recall: 0.7489
Epoch 109/300
61/61 [==============================] - 0s 8ms/step - loss: 0.4630 - accuracy: 0.7480 - precision: 0.7534 - recall: 0.7384 - val_loss: 0.4723 - val_accuracy: 0.7455 - val_precision: 0.7457 - val_recall: 0.7407
Epoch 110/300
61/61 [==============================] - 1s 8ms/step - loss: 0.4618 - accuracy: 0.7483 - precision: 0.7550 - recall: 0.7362 - val_loss: 0.4713 - val_accuracy: 0.7471 - val_precision: 0.7647 - val_recall: 0.7096
Epoch 111/300
61/61 [==============================] - 1s 9ms/step - loss: 0.4612 - accuracy: 0.7501 - precision: 0.7579 - recall: 0.7361 - val_loss: 0.4700 - val_accuracy: 0.7478 - val_precision: 0.7708 - val_recall: 0.7012
Epoch 112/300
61/61 [==============================] - 0s 8ms/step - loss: 0.4608 - accuracy: 0.7481 - precision: 0.7547 - recall: 0.7361 - val_loss: 0.4704 - val_accuracy: 0.7505 - val_precision: 0.7530 - val_recall: 0.7411
Epoch 113/300
61/61 [==============================] - 1s 8ms/step - loss: 0.4621 - accuracy: 0.7484 - precision: 0.7522 - recall: 0.7418 - val_loss: 0.4712 - val_accuracy: 0.7482 - val_precision: 0.7717 - val_recall: 0.7008
Epoch 114/300
61/61 [==============================] - 1s 8ms/step - loss: 0.4586 - accuracy: 0.7514 - precision: 0.7621 - recall: 0.7321 - val_loss: 0.4702 - val_accuracy: 0.7472 - val_precision: 0.7424 - val_recall: 0.7525
Epoch 115/300
61/61 [==============================] - 0s 8ms/step - loss: 0.4608 - accuracy: 0.7500 - precision: 0.7534 - recall: 0.7443 - val_loss: 0.4714 - val_accuracy: 0.7446 - val_precision: 0.7633 - val_recall: 0.7047
Epoch 116/300
61/61 [==============================] - 1s 8ms/step - loss: 0.4582 - accuracy: 0.7512 - precision: 0.7575 - recall: 0.7400 - val_loss: 0.4693 - val_accuracy: 0.7498 - val_precision: 0.7600 - val_recall: 0.7261
Epoch 117/300
61/61 [==============================] - 1s 8ms/step - loss: 0.4566 - accuracy: 0.7537 - precision: 0.7583 - recall: 0.7459 - val_loss: 0.4685 - val_accuracy: 0.7474 - val_precision: 0.7675 - val_recall: 0.7056
Epoch 118/300
61/61 [==============================] - 1s 9ms/step - loss: 0.4577 - accuracy: 0.7529 - precision: 0.7609 - recall: 0.7385 - val_loss: 0.4658 - val_accuracy: 0.7518 - val_precision: 0.7570 - val_recall: 0.7373
Epoch 119/300
61/61 [==============================] - 1s 8ms/step - loss: 0.4560 - accuracy: 0.7538 - precision: 0.7597 - recall: 0.7434 - val_loss: 0.4664 - val_accuracy: 0.7529 - val_precision: 0.7738 - val_recall: 0.7107
Epoch 120/300
61/61 [==============================] - 1s 8ms/step - loss: 0.4554 - accuracy: 0.7538 - precision: 0.7628 - recall: 0.7379 - val_loss: 0.4666 - val_accuracy: 0.7498 - val_precision: 0.7548 - val_recall: 0.7358
Epoch 121/300
61/61 [==============================] - 1s 8ms/step - loss: 0.4557 - accuracy: 0.7543 - precision: 0.7594 - recall: 0.7457 - val_loss: 0.4655 - val_accuracy: 0.7529 - val_precision: 0.7699 - val_recall: 0.7175
Epoch 122/300
61/61 [==============================] - 1s 8ms/step - loss: 0.4561 - accuracy: 0.7536 - precision: 0.7619 - recall: 0.7387 - val_loss: 0.4662 - val_accuracy: 0.7529 - val_precision: 0.7804 - val_recall: 0.6999
Epoch 123/300
61/61 [==============================] - 1s 8ms/step - loss: 0.4536 - accuracy: 0.7563 - precision: 0.7633 - recall: 0.7440 - val_loss: 0.4644 - val_accuracy: 0.7526 - val_precision: 0.7656 - val_recall: 0.7238
Epoch 124/300
61/61 [==============================] - 1s 9ms/step - loss: 0.4541 - accuracy: 0.7540 - precision: 0.7625 - recall: 0.7389 - val_loss: 0.4664 - val_accuracy: 0.7539 - val_precision: 0.7558 - val_recall: 0.7461
Epoch 125/300
61/61 [==============================] - 1s 9ms/step - loss: 0.4528 - accuracy: 0.7551 - precision: 0.7618 - recall: 0.7432 - val_loss: 0.4639 - val_accuracy: 0.7525 - val_precision: 0.7845 - val_recall: 0.6923
Epoch 126/300
61/61 [==============================] - 0s 8ms/step - loss: 0.4528 - accuracy: 0.7563 - precision: 0.7669 - recall: 0.7376 - val_loss: 0.4622 - val_accuracy: 0.7537 - val_precision: 0.7685 - val_recall: 0.7219
Epoch 127/300
61/61 [==============================] - 1s 9ms/step - loss: 0.4521 - accuracy: 0.7587 - precision: 0.7642 - recall: 0.7491 - val_loss: 0.4623 - val_accuracy: 0.7570 - val_precision: 0.7615 - val_recall: 0.7441
Epoch 128/300
61/61 [==============================] - 1s 9ms/step - loss: 0.4514 - accuracy: 0.7575 - precision: 0.7657 - recall: 0.7432 - val_loss: 0.4595 - val_accuracy: 0.7579 - val_precision: 0.7653 - val_recall: 0.7400
Epoch 129/300
61/61 [==============================] - 1s 8ms/step - loss: 0.4504 - accuracy: 0.7571 - precision: 0.7619 - recall: 0.7490 - val_loss: 0.4605 - val_accuracy: 0.7565 - val_precision: 0.7747 - val_recall: 0.7196
Epoch 130/300
61/61 [==============================] - 1s 8ms/step - loss: 0.4516 - accuracy: 0.7579 - precision: 0.7680 - recall: 0.7399 - val_loss: 0.4612 - val_accuracy: 0.7546 - val_precision: 0.7536 - val_recall: 0.7523
Epoch 131/300
61/61 [==============================] - 1s 9ms/step - loss: 0.4497 - accuracy: 0.7595 - precision: 0.7670 - recall: 0.7464 - val_loss: 0.4604 - val_accuracy: 0.7588 - val_precision: 0.7665 - val_recall: 0.7403
Epoch 132/300
61/61 [==============================] - 1s 8ms/step - loss: 0.4501 - accuracy: 0.7586 - precision: 0.7648 - recall: 0.7478 - val_loss: 0.4601 - val_accuracy: 0.7570 - val_precision: 0.7750 - val_recall: 0.7204
Epoch 133/300
61/61 [==============================] - 0s 8ms/step - loss: 0.4490 - accuracy: 0.7595 - precision: 0.7675 - recall: 0.7456 - val_loss: 0.4610 - val_accuracy: 0.7559 - val_precision: 0.7526 - val_recall: 0.7583
Epoch 134/300
61/61 [==============================] - 1s 8ms/step - loss: 0.4502 - accuracy: 0.7574 - precision: 0.7664 - recall: 0.7414 - val_loss: 0.4597 - val_accuracy: 0.7559 - val_precision: 0.7732 - val_recall: 0.7203
Epoch 135/300
61/61 [==============================] - 0s 8ms/step - loss: 0.4486 - accuracy: 0.7595 - precision: 0.7669 - recall: 0.7465 - val_loss: 0.4596 - val_accuracy: 0.7571 - val_precision: 0.7452 - val_recall: 0.7770
Epoch 136/300
61/61 [==============================] - 1s 9ms/step - loss: 0.4478 - accuracy: 0.7605 - precision: 0.7690 - recall: 0.7457 - val_loss: 0.4587 - val_accuracy: 0.7593 - val_precision: 0.7724 - val_recall: 0.7313
Epoch 137/300
61/61 [==============================] - 1s 9ms/step - loss: 0.4464 - accuracy: 0.7621 - precision: 0.7685 - recall: 0.7511 - val_loss: 0.4588 - val_accuracy: 0.7589 - val_precision: 0.7806 - val_recall: 0.7162
Epoch 138/300
61/61 [==============================] - 1s 9ms/step - loss: 0.4462 - accuracy: 0.7625 - precision: 0.7702 - recall: 0.7491 - val_loss: 0.4560 - val_accuracy: 0.7622 - val_precision: 0.7779 - val_recall: 0.7300
Epoch 139/300
61/61 [==============================] - 1s 9ms/step - loss: 0.4464 - accuracy: 0.7610 - precision: 0.7684 - recall: 0.7481 - val_loss: 0.4549 - val_accuracy: 0.7613 - val_precision: 0.7669 - val_recall: 0.7466
Epoch 140/300
61/61 [==============================] - 1s 9ms/step - loss: 0.4457 - accuracy: 0.7625 - precision: 0.7705 - recall: 0.7486 - val_loss: 0.4563 - val_accuracy: 0.7608 - val_precision: 0.7634 - val_recall: 0.7517
Epoch 141/300
61/61 [==============================] - 1s 9ms/step - loss: 0.4453 - accuracy: 0.7615 - precision: 0.7673 - recall: 0.7518 - val_loss: 0.4557 - val_accuracy: 0.7612 - val_precision: 0.7956 - val_recall: 0.6993
Epoch 142/300
61/61 [==============================] - 1s 8ms/step - loss: 0.4426 - accuracy: 0.7637 - precision: 0.7735 - recall: 0.7468 - val_loss: 0.4547 - val_accuracy: 0.7635 - val_precision: 0.7711 - val_recall: 0.7454
Epoch 143/300
61/61 [==============================] - 1s 9ms/step - loss: 0.4437 - accuracy: 0.7636 - precision: 0.7730 - recall: 0.7474 - val_loss: 0.4521 - val_accuracy: 0.7628 - val_precision: 0.7532 - val_recall: 0.7775
Epoch 144/300
61/61 [==============================] - 1s 9ms/step - loss: 0.4423 - accuracy: 0.7648 - precision: 0.7727 - recall: 0.7513 - val_loss: 0.4526 - val_accuracy: 0.7636 - val_precision: 0.7876 - val_recall: 0.7182
Epoch 145/300
61/61 [==============================] - 1s 9ms/step - loss: 0.4442 - accuracy: 0.7628 - precision: 0.7700 - recall: 0.7506 - val_loss: 0.4543 - val_accuracy: 0.7625 - val_precision: 0.7821 - val_recall: 0.7241
Epoch 146/300
61/61 [==============================] - 1s 8ms/step - loss: 0.4436 - accuracy: 0.7630 - precision: 0.7704 - recall: 0.7503 - val_loss: 0.4501 - val_accuracy: 0.7680 - val_precision: 0.7847 - val_recall: 0.7349
Epoch 147/300
61/61 [==============================] - 1s 9ms/step - loss: 0.4431 - accuracy: 0.7642 - precision: 0.7709 - recall: 0.7528 - val_loss: 0.4522 - val_accuracy: 0.7649 - val_precision: 0.7783 - val_recall: 0.7369
Epoch 148/300
61/61 [==============================] - 1s 8ms/step - loss: 0.4426 - accuracy: 0.7643 - precision: 0.7738 - recall: 0.7480 - val_loss: 0.4509 - val_accuracy: 0.7647 - val_precision: 0.7533 - val_recall: 0.7831
Epoch 149/300
61/61 [==============================] - 1s 9ms/step - loss: 0.4423 - accuracy: 0.7639 - precision: 0.7701 - recall: 0.7535 - val_loss: 0.4504 - val_accuracy: 0.7652 - val_precision: 0.7847 - val_recall: 0.7271
Epoch 150/300
61/61 [==============================] - 1s 8ms/step - loss: 0.4417 - accuracy: 0.7644 - precision: 0.7722 - recall: 0.7511 - val_loss: 0.4507 - val_accuracy: 0.7645 - val_precision: 0.7746 - val_recall: 0.7421
Epoch 151/300
61/61 [==============================] - 1s 9ms/step - loss: 0.4399 - accuracy: 0.7678 - precision: 0.7743 - recall: 0.7570 - val_loss: 0.4506 - val_accuracy: 0.7659 - val_precision: 0.7847 - val_recall: 0.7292
Epoch 152/300
61/61 [==============================] - 1s 8ms/step - loss: 0.4399 - accuracy: 0.7660 - precision: 0.7744 - recall: 0.7516 - val_loss: 0.4491 - val_accuracy: 0.7656 - val_precision: 0.7579 - val_recall: 0.7766
Epoch 153/300
61/61 [==============================] - 1s 9ms/step - loss: 0.4398 - accuracy: 0.7685 - precision: 0.7732 - recall: 0.7608 - val_loss: 0.4505 - val_accuracy: 0.7665 - val_precision: 0.8039 - val_recall: 0.7015
Epoch 154/300
61/61 [==============================] - 1s 9ms/step - loss: 0.4397 - accuracy: 0.7671 - precision: 0.7761 - recall: 0.7518 - val_loss: 0.4498 - val_accuracy: 0.7680 - val_precision: 0.7901 - val_recall: 0.7264
Epoch 155/300
61/61 [==============================] - 1s 9ms/step - loss: 0.4390 - accuracy: 0.7670 - precision: 0.7745 - recall: 0.7543 - val_loss: 0.4477 - val_accuracy: 0.7697 - val_precision: 0.7811 - val_recall: 0.7456
Epoch 156/300
61/61 [==============================] - 1s 8ms/step - loss: 0.4381 - accuracy: 0.7672 - precision: 0.7738 - recall: 0.7559 - val_loss: 0.4488 - val_accuracy: 0.7704 - val_precision: 0.7823 - val_recall: 0.7456
Epoch 157/300
61/61 [==============================] - 1s 9ms/step - loss: 0.4383 - accuracy: 0.7686 - precision: 0.7789 - recall: 0.7511 - val_loss: 0.4473 - val_accuracy: 0.7690 - val_precision: 0.7915 - val_recall: 0.7268
Epoch 158/300
61/61 [==============================] - 0s 8ms/step - loss: 0.4366 - accuracy: 0.7694 - precision: 0.7791 - recall: 0.7529 - val_loss: 0.4468 - val_accuracy: 0.7701 - val_precision: 0.7845 - val_recall: 0.7411
Epoch 159/300
61/61 [==============================] - 1s 8ms/step - loss: 0.4391 - accuracy: 0.7668 - precision: 0.7726 - recall: 0.7573 - val_loss: 0.4496 - val_accuracy: 0.7685 - val_precision: 0.7906 - val_recall: 0.7269
Epoch 160/300
61/61 [==============================] - 0s 8ms/step - loss: 0.4375 - accuracy: 0.7694 - precision: 0.7795 - recall: 0.7524 - val_loss: 0.4495 - val_accuracy: 0.7668 - val_precision: 0.7796 - val_recall: 0.7401
Epoch 161/300
61/61 [==============================] - 1s 8ms/step - loss: 0.4359 - accuracy: 0.7702 - precision: 0.7760 - recall: 0.7605 - val_loss: 0.4467 - val_accuracy: 0.7716 - val_precision: 0.7936 - val_recall: 0.7305
Epoch 162/300
61/61 [==============================] - 1s 9ms/step - loss: 0.4357 - accuracy: 0.7706 - precision: 0.7784 - recall: 0.7577 - val_loss: 0.4451 - val_accuracy: 0.7716 - val_precision: 0.7825 - val_recall: 0.7486
Epoch 163/300
61/61 [==============================] - 1s 8ms/step - loss: 0.4364 - accuracy: 0.7692 - precision: 0.7779 - recall: 0.7546 - val_loss: 0.4470 - val_accuracy: 0.7697 - val_precision: 0.7721 - val_recall: 0.7616
Epoch 164/300
61/61 [==============================] - 1s 8ms/step - loss: 0.4356 - accuracy: 0.7710 - precision: 0.7796 - recall: 0.7564 - val_loss: 0.4448 - val_accuracy: 0.7718 - val_precision: 0.7966 - val_recall: 0.7265
Epoch 165/300
61/61 [==============================] - 0s 8ms/step - loss: 0.4348 - accuracy: 0.7696 - precision: 0.7776 - recall: 0.7561 - val_loss: 0.4451 - val_accuracy: 0.7711 - val_precision: 0.7894 - val_recall: 0.7358
Epoch 166/300
61/61 [==============================] - 1s 9ms/step - loss: 0.4348 - accuracy: 0.7701 - precision: 0.7777 - recall: 0.7574 - val_loss: 0.4422 - val_accuracy: 0.7726 - val_precision: 0.7805 - val_recall: 0.7549
Epoch 167/300
61/61 [==============================] - 1s 9ms/step - loss: 0.4354 - accuracy: 0.7692 - precision: 0.7803 - recall: 0.7504 - val_loss: 0.4447 - val_accuracy: 0.7736 - val_precision: 0.8042 - val_recall: 0.7197
Epoch 168/300
61/61 [==============================] - 1s 9ms/step - loss: 0.4337 - accuracy: 0.7713 - precision: 0.7795 - recall: 0.7574 - val_loss: 0.4431 - val_accuracy: 0.7708 - val_precision: 0.7740 - val_recall: 0.7612
Epoch 169/300
61/61 [==============================] - 1s 9ms/step - loss: 0.4323 - accuracy: 0.7734 - precision: 0.7811 - recall: 0.7607 - val_loss: 0.4433 - val_accuracy: 0.7718 - val_precision: 0.7809 - val_recall: 0.7518
Epoch 170/300
61/61 [==============================] - 1s 9ms/step - loss: 0.4316 - accuracy: 0.7724 - precision: 0.7791 - recall: 0.7614 - val_loss: 0.4423 - val_accuracy: 0.7733 - val_precision: 0.7943 - val_recall: 0.7340
Epoch 171/300
61/61 [==============================] - 1s 9ms/step - loss: 0.4322 - accuracy: 0.7710 - precision: 0.7818 - recall: 0.7527 - val_loss: 0.4446 - val_accuracy: 0.7716 - val_precision: 0.7701 - val_recall: 0.7706
Epoch 172/300
61/61 [==============================] - 1s 9ms/step - loss: 0.4321 - accuracy: 0.7715 - precision: 0.7771 - recall: 0.7623 - val_loss: 0.4433 - val_accuracy: 0.7715 - val_precision: 0.7852 - val_recall: 0.7439
Epoch 173/300
61/61 [==============================] - 1s 9ms/step - loss: 0.4315 - accuracy: 0.7726 - precision: 0.7816 - recall: 0.7574 - val_loss: 0.4417 - val_accuracy: 0.7733 - val_precision: 0.7786 - val_recall: 0.7601
Epoch 174/300
61/61 [==============================] - 1s 9ms/step - loss: 0.4306 - accuracy: 0.7743 - precision: 0.7820 - recall: 0.7615 - val_loss: 0.4418 - val_accuracy: 0.7753 - val_precision: 0.7902 - val_recall: 0.7461
Epoch 175/300
61/61 [==============================] - 1s 9ms/step - loss: 0.4305 - accuracy: 0.7738 - precision: 0.7801 - recall: 0.7634 - val_loss: 0.4399 - val_accuracy: 0.7741 - val_precision: 0.7847 - val_recall: 0.7519
Epoch 176/300
61/61 [==============================] - 1s 9ms/step - loss: 0.4308 - accuracy: 0.7731 - precision: 0.7820 - recall: 0.7582 - val_loss: 0.4409 - val_accuracy: 0.7727 - val_precision: 0.7983 - val_recall: 0.7263
Epoch 177/300
61/61 [==============================] - 1s 10ms/step - loss: 0.4305 - accuracy: 0.7748 - precision: 0.7805 - recall: 0.7654 - val_loss: 0.4405 - val_accuracy: 0.7745 - val_precision: 0.8120 - val_recall: 0.7110
Epoch 178/300
61/61 [==============================] - 1s 10ms/step - loss: 0.4290 - accuracy: 0.7750 - precision: 0.7867 - recall: 0.7553 - val_loss: 0.4428 - val_accuracy: 0.7743 - val_precision: 0.7882 - val_recall: 0.7467
Epoch 179/300
61/61 [==============================] - 1s 9ms/step - loss: 0.4291 - accuracy: 0.7745 - precision: 0.7798 - recall: 0.7660 - val_loss: 0.4409 - val_accuracy: 0.7768 - val_precision: 0.7951 - val_recall: 0.7422
Epoch 180/300
61/61 [==============================] - 1s 9ms/step - loss: 0.4289 - accuracy: 0.7744 - precision: 0.7841 - recall: 0.7583 - val_loss: 0.4367 - val_accuracy: 0.7790 - val_precision: 0.7874 - val_recall: 0.7609
Epoch 181/300
61/61 [==============================] - 1s 9ms/step - loss: 0.4269 - accuracy: 0.7767 - precision: 0.7831 - recall: 0.7662 - val_loss: 0.4382 - val_accuracy: 0.7755 - val_precision: 0.8008 - val_recall: 0.7298
Epoch 182/300
61/61 [==============================] - 1s 9ms/step - loss: 0.4283 - accuracy: 0.7760 - precision: 0.7835 - recall: 0.7636 - val_loss: 0.4387 - val_accuracy: 0.7764 - val_precision: 0.8111 - val_recall: 0.7173
Epoch 183/300
61/61 [==============================] - 1s 10ms/step - loss: 0.4287 - accuracy: 0.7740 - precision: 0.7827 - recall: 0.7597 - val_loss: 0.4400 - val_accuracy: 0.7753 - val_precision: 0.8108 - val_recall: 0.7148
Epoch 184/300
61/61 [==============================] - 1s 9ms/step - loss: 0.4270 - accuracy: 0.7773 - precision: 0.7852 - recall: 0.7644 - val_loss: 0.4380 - val_accuracy: 0.7783 - val_precision: 0.7915 - val_recall: 0.7521
Epoch 185/300
61/61 [==============================] - 1s 13ms/step - loss: 0.4260 - accuracy: 0.7785 - precision: 0.7863 - recall: 0.7656 - val_loss: 0.4372 - val_accuracy: 0.7748 - val_precision: 0.7633 - val_recall: 0.7928
Epoch 186/300
61/61 [==============================] - 1s 13ms/step - loss: 0.4271 - accuracy: 0.7772 - precision: 0.7841 - recall: 0.7658 - val_loss: 0.4363 - val_accuracy: 0.7768 - val_precision: 0.7729 - val_recall: 0.7801
Epoch 187/300
61/61 [==============================] - 1s 15ms/step - loss: 0.4271 - accuracy: 0.7766 - precision: 0.7813 - recall: 0.7691 - val_loss: 0.4368 - val_accuracy: 0.7788 - val_precision: 0.8047 - val_recall: 0.7329
Epoch 188/300
61/61 [==============================] - 1s 15ms/step - loss: 0.4274 - accuracy: 0.7758 - precision: 0.7856 - recall: 0.7595 - val_loss: 0.4373 - val_accuracy: 0.7785 - val_precision: 0.7934 - val_recall: 0.7497
Epoch 189/300
61/61 [==============================] - 1s 19ms/step - loss: 0.4269 - accuracy: 0.7772 - precision: 0.7842 - recall: 0.7657 - val_loss: 0.4360 - val_accuracy: 0.7774 - val_precision: 0.7947 - val_recall: 0.7446
Epoch 190/300
61/61 [==============================] - 1s 16ms/step - loss: 0.4262 - accuracy: 0.7764 - precision: 0.7835 - recall: 0.7648 - val_loss: 0.4379 - val_accuracy: 0.7765 - val_precision: 0.8160 - val_recall: 0.7107
Epoch 191/300
61/61 [==============================] - 1s 19ms/step - loss: 0.4258 - accuracy: 0.7761 - precision: 0.7863 - recall: 0.7592 - val_loss: 0.4359 - val_accuracy: 0.7804 - val_precision: 0.7973 - val_recall: 0.7487
Epoch 192/300
61/61 [==============================] - 1s 15ms/step - loss: 0.4258 - accuracy: 0.7774 - precision: 0.7833 - recall: 0.7679 - val_loss: 0.4362 - val_accuracy: 0.7758 - val_precision: 0.7922 - val_recall: 0.7443
Epoch 193/300
61/61 [==============================] - 1s 13ms/step - loss: 0.4237 - accuracy: 0.7781 - precision: 0.7859 - recall: 0.7652 - val_loss: 0.4362 - val_accuracy: 0.7800 - val_precision: 0.8109 - val_recall: 0.7270
Epoch 194/300
61/61 [==============================] - 1s 16ms/step - loss: 0.4245 - accuracy: 0.7785 - precision: 0.7859 - recall: 0.7666 - val_loss: 0.4340 - val_accuracy: 0.7809 - val_precision: 0.7888 - val_recall: 0.7637
Epoch 195/300
61/61 [==============================] - 1s 14ms/step - loss: 0.4245 - accuracy: 0.7796 - precision: 0.7870 - recall: 0.7676 - val_loss: 0.4371 - val_accuracy: 0.7785 - val_precision: 0.7961 - val_recall: 0.7453
Epoch 196/300
61/61 [==============================] - 1s 14ms/step - loss: 0.4251 - accuracy: 0.7798 - precision: 0.7891 - recall: 0.7646 - val_loss: 0.4329 - val_accuracy: 0.7837 - val_precision: 0.7978 - val_recall: 0.7567
Epoch 197/300
61/61 [==============================] - 1s 13ms/step - loss: 0.4225 - accuracy: 0.7802 - precision: 0.7884 - recall: 0.7670 - val_loss: 0.4339 - val_accuracy: 0.7793 - val_precision: 0.7809 - val_recall: 0.7730
Epoch 198/300
61/61 [==============================] - 1s 12ms/step - loss: 0.4240 - accuracy: 0.7786 - precision: 0.7853 - recall: 0.7675 - val_loss: 0.4330 - val_accuracy: 0.7812 - val_precision: 0.7984 - val_recall: 0.7490
Epoch 199/300
61/61 [==============================] - 1s 14ms/step - loss: 0.4238 - accuracy: 0.7789 - precision: 0.7866 - recall: 0.7663 - val_loss: 0.4362 - val_accuracy: 0.7814 - val_precision: 0.8263 - val_recall: 0.7093
Epoch 200/300
61/61 [==============================] - 1s 13ms/step - loss: 0.4233 - accuracy: 0.7798 - precision: 0.7890 - recall: 0.7648 - val_loss: 0.4349 - val_accuracy: 0.7823 - val_precision: 0.8020 - val_recall: 0.7464
Epoch 201/300
61/61 [==============================] - 1s 12ms/step - loss: 0.4199 - accuracy: 0.7821 - precision: 0.7908 - recall: 0.7679 - val_loss: 0.4341 - val_accuracy: 0.7810 - val_precision: 0.7870 - val_recall: 0.7669
Epoch 202/300
61/61 [==============================] - 1s 14ms/step - loss: 0.4242 - accuracy: 0.7782 - precision: 0.7852 - recall: 0.7667 - val_loss: 0.4360 - val_accuracy: 0.7798 - val_precision: 0.7970 - val_recall: 0.7474
Epoch 203/300
61/61 [==============================] - 1s 13ms/step - loss: 0.4221 - accuracy: 0.7811 - precision: 0.7876 - recall: 0.7707 - val_loss: 0.4332 - val_accuracy: 0.7807 - val_precision: 0.7821 - val_recall: 0.7746
Epoch 204/300
61/61 [==============================] - 1s 13ms/step - loss: 0.4214 - accuracy: 0.7799 - precision: 0.7865 - recall: 0.7694 - val_loss: 0.4305 - val_accuracy: 0.7824 - val_precision: 0.7934 - val_recall: 0.7601
Epoch 205/300
61/61 [==============================] - 1s 13ms/step - loss: 0.4212 - accuracy: 0.7805 - precision: 0.7908 - recall: 0.7637 - val_loss: 0.4323 - val_accuracy: 0.7808 - val_precision: 0.7695 - val_recall: 0.7981
Epoch 206/300
61/61 [==============================] - 1s 13ms/step - loss: 0.4204 - accuracy: 0.7815 - precision: 0.7876 - recall: 0.7717 - val_loss: 0.4294 - val_accuracy: 0.7828 - val_precision: 0.7890 - val_recall: 0.7686
Epoch 207/300
61/61 [==============================] - 1s 16ms/step - loss: 0.4220 - accuracy: 0.7807 - precision: 0.7874 - recall: 0.7699 - val_loss: 0.4310 - val_accuracy: 0.7841 - val_precision: 0.8153 - val_recall: 0.7313
Epoch 208/300
61/61 [==============================] - 1s 12ms/step - loss: 0.4193 - accuracy: 0.7814 - precision: 0.7889 - recall: 0.7692 - val_loss: 0.4324 - val_accuracy: 0.7825 - val_precision: 0.8095 - val_recall: 0.7357
Epoch 209/300
61/61 [==============================] - 1s 9ms/step - loss: 0.4188 - accuracy: 0.7823 - precision: 0.7917 - recall: 0.7671 - val_loss: 0.4307 - val_accuracy: 0.7818 - val_precision: 0.7955 - val_recall: 0.7551
Epoch 210/300
61/61 [==============================] - 1s 9ms/step - loss: 0.4170 - accuracy: 0.7835 - precision: 0.7900 - recall: 0.7732 - val_loss: 0.4323 - val_accuracy: 0.7814 - val_precision: 0.7986 - val_recall: 0.7491
Epoch 211/300
61/61 [==============================] - 1s 9ms/step - loss: 0.4190 - accuracy: 0.7823 - precision: 0.7910 - recall: 0.7683 - val_loss: 0.4310 - val_accuracy: 0.7853 - val_precision: 0.8088 - val_recall: 0.7439
Epoch 212/300
61/61 [==============================] - 1s 10ms/step - loss: 0.4189 - accuracy: 0.7831 - precision: 0.7886 - recall: 0.7744 - val_loss: 0.4335 - val_accuracy: 0.7803 - val_precision: 0.8216 - val_recall: 0.7127
Epoch 213/300
61/61 [==============================] - 1s 9ms/step - loss: 0.4183 - accuracy: 0.7840 - precision: 0.7934 - recall: 0.7688 - val_loss: 0.4277 - val_accuracy: 0.7837 - val_precision: 0.7842 - val_recall: 0.7792
Epoch 214/300
61/61 [==============================] - 1s 9ms/step - loss: 0.4190 - accuracy: 0.7826 - precision: 0.7902 - recall: 0.7704 - val_loss: 0.4314 - val_accuracy: 0.7852 - val_precision: 0.8242 - val_recall: 0.7220
Epoch 215/300
61/61 [==============================] - 1s 9ms/step - loss: 0.4192 - accuracy: 0.7828 - precision: 0.7902 - recall: 0.7711 - val_loss: 0.4273 - val_accuracy: 0.7870 - val_precision: 0.8118 - val_recall: 0.7439
Epoch 216/300
61/61 [==============================] - 1s 13ms/step - loss: 0.4151 - accuracy: 0.7863 - precision: 0.7932 - recall: 0.7754 - val_loss: 0.4256 - val_accuracy: 0.7867 - val_precision: 0.8071 - val_recall: 0.7501
Epoch 217/300
61/61 [==============================] - 1s 15ms/step - loss: 0.4187 - accuracy: 0.7836 - precision: 0.7904 - recall: 0.7726 - val_loss: 0.4284 - val_accuracy: 0.7837 - val_precision: 0.7943 - val_recall: 0.7623
Epoch 218/300
61/61 [==============================] - 1s 10ms/step - loss: 0.4172 - accuracy: 0.7843 - precision: 0.7920 - recall: 0.7719 - val_loss: 0.4270 - val_accuracy: 0.7869 - val_precision: 0.7810 - val_recall: 0.7939
Epoch 219/300
61/61 [==============================] - 1s 9ms/step - loss: 0.4170 - accuracy: 0.7843 - precision: 0.7911 - recall: 0.7736 - val_loss: 0.4263 - val_accuracy: 0.7876 - val_precision: 0.8123 - val_recall: 0.7448
Epoch 220/300
61/61 [==============================] - 1s 9ms/step - loss: 0.4151 - accuracy: 0.7857 - precision: 0.7954 - recall: 0.7701 - val_loss: 0.4282 - val_accuracy: 0.7863 - val_precision: 0.8059 - val_recall: 0.7510
Epoch 221/300
61/61 [==============================] - 1s 9ms/step - loss: 0.4154 - accuracy: 0.7864 - precision: 0.7935 - recall: 0.7752 - val_loss: 0.4282 - val_accuracy: 0.7846 - val_precision: 0.8030 - val_recall: 0.7510
Epoch 222/300
61/61 [==============================] - 1s 9ms/step - loss: 0.4175 - accuracy: 0.7839 - precision: 0.7907 - recall: 0.7730 - val_loss: 0.4296 - val_accuracy: 0.7860 - val_precision: 0.8162 - val_recall: 0.7350
Epoch 223/300
61/61 [==============================] - 1s 9ms/step - loss: 0.4151 - accuracy: 0.7858 - precision: 0.7940 - recall: 0.7727 - val_loss: 0.4267 - val_accuracy: 0.7850 - val_precision: 0.7803 - val_recall: 0.7900
Epoch 224/300
61/61 [==============================] - 1s 10ms/step - loss: 0.4160 - accuracy: 0.7850 - precision: 0.7919 - recall: 0.7739 - val_loss: 0.4297 - val_accuracy: 0.7856 - val_precision: 0.8110 - val_recall: 0.7413
Epoch 225/300
61/61 [==============================] - 1s 13ms/step - loss: 0.4150 - accuracy: 0.7857 - precision: 0.7944 - recall: 0.7718 - val_loss: 0.4282 - val_accuracy: 0.7861 - val_precision: 0.8034 - val_recall: 0.7543
Epoch 226/300
61/61 [==============================] - 1s 15ms/step - loss: 0.4165 - accuracy: 0.7865 - precision: 0.7942 - recall: 0.7744 - val_loss: 0.4243 - val_accuracy: 0.7871 - val_precision: 0.7856 - val_recall: 0.7863
Epoch 227/300
61/61 [==============================] - 1s 19ms/step - loss: 0.4147 - accuracy: 0.7868 - precision: 0.7944 - recall: 0.7747 - val_loss: 0.4239 - val_accuracy: 0.7899 - val_precision: 0.8043 - val_recall: 0.7631
Epoch 228/300
61/61 [==============================] - 1s 9ms/step - loss: 0.4153 - accuracy: 0.7863 - precision: 0.7942 - recall: 0.7739 - val_loss: 0.4255 - val_accuracy: 0.7872 - val_precision: 0.8135 - val_recall: 0.7421
Epoch 229/300
61/61 [==============================] - 1s 9ms/step - loss: 0.4151 - accuracy: 0.7858 - precision: 0.7934 - recall: 0.7736 - val_loss: 0.4267 - val_accuracy: 0.7862 - val_precision: 0.8040 - val_recall: 0.7537
Epoch 230/300
61/61 [==============================] - 1s 9ms/step - loss: 0.4151 - accuracy: 0.7864 - precision: 0.7932 - recall: 0.7757 - val_loss: 0.4256 - val_accuracy: 0.7886 - val_precision: 0.8050 - val_recall: 0.7586
Epoch 231/300
61/61 [==============================] - 1s 9ms/step - loss: 0.4137 - accuracy: 0.7872 - precision: 0.7962 - recall: 0.7728 - val_loss: 0.4264 - val_accuracy: 0.7873 - val_precision: 0.7917 - val_recall: 0.7764
Epoch 232/300
61/61 [==============================] - 1s 9ms/step - loss: 0.4138 - accuracy: 0.7871 - precision: 0.7934 - recall: 0.7771 - val_loss: 0.4240 - val_accuracy: 0.7893 - val_precision: 0.8135 - val_recall: 0.7475
Epoch 233/300
61/61 [==============================] - 1s 9ms/step - loss: 0.4143 - accuracy: 0.7863 - precision: 0.7977 - recall: 0.7682 - val_loss: 0.4238 - val_accuracy: 0.7900 - val_precision: 0.8036 - val_recall: 0.7645
Epoch 234/300
61/61 [==============================] - 1s 9ms/step - loss: 0.4123 - accuracy: 0.7895 - precision: 0.7980 - recall: 0.7761 - val_loss: 0.4228 - val_accuracy: 0.7889 - val_precision: 0.8022 - val_recall: 0.7636
Epoch 235/300
61/61 [==============================] - 1s 9ms/step - loss: 0.4139 - accuracy: 0.7862 - precision: 0.7955 - recall: 0.7713 - val_loss: 0.4252 - val_accuracy: 0.7870 - val_precision: 0.8089 - val_recall: 0.7484
Epoch 236/300
61/61 [==============================] - 1s 9ms/step - loss: 0.4133 - accuracy: 0.7869 - precision: 0.7957 - recall: 0.7729 - val_loss: 0.4237 - val_accuracy: 0.7888 - val_precision: 0.7999 - val_recall: 0.7671
Epoch 237/300
61/61 [==============================] - 1s 10ms/step - loss: 0.4118 - accuracy: 0.7884 - precision: 0.7957 - recall: 0.7769 - val_loss: 0.4225 - val_accuracy: 0.7888 - val_precision: 0.8022 - val_recall: 0.7633
Epoch 238/300
61/61 [==============================] - 1s 10ms/step - loss: 0.4111 - accuracy: 0.7890 - precision: 0.7960 - recall: 0.7780 - val_loss: 0.4219 - val_accuracy: 0.7882 - val_precision: 0.7936 - val_recall: 0.7758
Epoch 239/300
61/61 [==============================] - 1s 9ms/step - loss: 0.4132 - accuracy: 0.7884 - precision: 0.7966 - recall: 0.7755 - val_loss: 0.4216 - val_accuracy: 0.7911 - val_precision: 0.8071 - val_recall: 0.7618
Epoch 240/300
61/61 [==============================] - 1s 9ms/step - loss: 0.4128 - accuracy: 0.7883 - precision: 0.7968 - recall: 0.7750 - val_loss: 0.4237 - val_accuracy: 0.7882 - val_precision: 0.8188 - val_recall: 0.7371
Epoch 241/300
61/61 [==============================] - 1s 9ms/step - loss: 0.4107 - accuracy: 0.7886 - precision: 0.7948 - recall: 0.7788 - val_loss: 0.4202 - val_accuracy: 0.7921 - val_precision: 0.8134 - val_recall: 0.7550
Epoch 242/300
61/61 [==============================] - 1s 9ms/step - loss: 0.4133 - accuracy: 0.7868 - precision: 0.7936 - recall: 0.7760 - val_loss: 0.4218 - val_accuracy: 0.7901 - val_precision: 0.8127 - val_recall: 0.7508
Epoch 243/300
61/61 [==============================] - 1s 9ms/step - loss: 0.4118 - accuracy: 0.7886 - precision: 0.7971 - recall: 0.7752 - val_loss: 0.4214 - val_accuracy: 0.7910 - val_precision: 0.8061 - val_recall: 0.7631
Epoch 244/300
61/61 [==============================] - 1s 10ms/step - loss: 0.4102 - accuracy: 0.7899 - precision: 0.7990 - recall: 0.7755 - val_loss: 0.4230 - val_accuracy: 0.7906 - val_precision: 0.8275 - val_recall: 0.7311
Epoch 245/300
61/61 [==============================] - 1s 9ms/step - loss: 0.4112 - accuracy: 0.7885 - precision: 0.7960 - recall: 0.7765 - val_loss: 0.4205 - val_accuracy: 0.7911 - val_precision: 0.8050 - val_recall: 0.7652
Epoch 246/300
61/61 [==============================] - 1s 9ms/step - loss: 0.4107 - accuracy: 0.7890 - precision: 0.7965 - recall: 0.7772 - val_loss: 0.4212 - val_accuracy: 0.7910 - val_precision: 0.8119 - val_recall: 0.7543
Epoch 247/300
61/61 [==============================] - 1s 9ms/step - loss: 0.4108 - accuracy: 0.7894 - precision: 0.7968 - recall: 0.7777 - val_loss: 0.4210 - val_accuracy: 0.7900 - val_precision: 0.7974 - val_recall: 0.7742
Epoch 248/300
61/61 [==============================] - 1s 9ms/step - loss: 0.4085 - accuracy: 0.7901 - precision: 0.7985 - recall: 0.7767 - val_loss: 0.4208 - val_accuracy: 0.7874 - val_precision: 0.7914 - val_recall: 0.7772
Epoch 249/300
61/61 [==============================] - 1s 9ms/step - loss: 0.4110 - accuracy: 0.7893 - precision: 0.7974 - recall: 0.7767 - val_loss: 0.4197 - val_accuracy: 0.7923 - val_precision: 0.8048 - val_recall: 0.7687
Epoch 250/300
61/61 [==============================] - 1s 9ms/step - loss: 0.4101 - accuracy: 0.7897 - precision: 0.7963 - recall: 0.7793 - val_loss: 0.4185 - val_accuracy: 0.7919 - val_precision: 0.8108 - val_recall: 0.7584
Epoch 251/300
61/61 [==============================] - 1s 9ms/step - loss: 0.4094 - accuracy: 0.7890 - precision: 0.7977 - recall: 0.7752 - val_loss: 0.4209 - val_accuracy: 0.7915 - val_precision: 0.8122 - val_recall: 0.7551
Epoch 252/300
61/61 [==============================] - 1s 9ms/step - loss: 0.4091 - accuracy: 0.7900 - precision: 0.7983 - recall: 0.7769 - val_loss: 0.4191 - val_accuracy: 0.7961 - val_precision: 0.8069 - val_recall: 0.7753
Epoch 253/300
61/61 [==============================] - 1s 9ms/step - loss: 0.4085 - accuracy: 0.7911 - precision: 0.7995 - recall: 0.7778 - val_loss: 0.4193 - val_accuracy: 0.7911 - val_precision: 0.8010 - val_recall: 0.7716
Epoch 254/300
61/61 [==============================] - 1s 9ms/step - loss: 0.4081 - accuracy: 0.7912 - precision: 0.7984 - recall: 0.7799 - val_loss: 0.4185 - val_accuracy: 0.7928 - val_precision: 0.8159 - val_recall: 0.7532
Epoch 255/300
61/61 [==============================] - 1s 9ms/step - loss: 0.4088 - accuracy: 0.7891 - precision: 0.7988 - recall: 0.7736 - val_loss: 0.4196 - val_accuracy: 0.7934 - val_precision: 0.8178 - val_recall: 0.7519
Epoch 256/300
61/61 [==============================] - 1s 9ms/step - loss: 0.4105 - accuracy: 0.7897 - precision: 0.7959 - recall: 0.7800 - val_loss: 0.4194 - val_accuracy: 0.7953 - val_precision: 0.8278 - val_recall: 0.7427
Epoch 257/300
61/61 [==============================] - 1s 9ms/step - loss: 0.4077 - accuracy: 0.7916 - precision: 0.8010 - recall: 0.7766 - val_loss: 0.4205 - val_accuracy: 0.7930 - val_precision: 0.8255 - val_recall: 0.7400
Epoch 258/300
61/61 [==============================] - 1s 10ms/step - loss: 0.4076 - accuracy: 0.7909 - precision: 0.7990 - recall: 0.7782 - val_loss: 0.4170 - val_accuracy: 0.7935 - val_precision: 0.8149 - val_recall: 0.7564
Epoch 259/300
61/61 [==============================] - 1s 9ms/step - loss: 0.4094 - accuracy: 0.7905 - precision: 0.7974 - recall: 0.7797 - val_loss: 0.4205 - val_accuracy: 0.7937 - val_precision: 0.8307 - val_recall: 0.7348
Epoch 260/300
61/61 [==============================] - 1s 9ms/step - loss: 0.4074 - accuracy: 0.7922 - precision: 0.8010 - recall: 0.7784 - val_loss: 0.4193 - val_accuracy: 0.7922 - val_precision: 0.8223 - val_recall: 0.7424
Epoch 261/300
61/61 [==============================] - 1s 9ms/step - loss: 0.4070 - accuracy: 0.7919 - precision: 0.8019 - recall: 0.7761 - val_loss: 0.4167 - val_accuracy: 0.7939 - val_precision: 0.8015 - val_recall: 0.7781
Epoch 262/300
61/61 [==============================] - 1s 9ms/step - loss: 0.4071 - accuracy: 0.7919 - precision: 0.8004 - recall: 0.7784 - val_loss: 0.4165 - val_accuracy: 0.7940 - val_precision: 0.7999 - val_recall: 0.7808
Epoch 263/300
61/61 [==============================] - 1s 9ms/step - loss: 0.4061 - accuracy: 0.7924 - precision: 0.7996 - recall: 0.7812 - val_loss: 0.4151 - val_accuracy: 0.7963 - val_precision: 0.8114 - val_recall: 0.7692
Epoch 264/300
61/61 [==============================] - 1s 9ms/step - loss: 0.4076 - accuracy: 0.7928 - precision: 0.8027 - recall: 0.7773 - val_loss: 0.4182 - val_accuracy: 0.7941 - val_precision: 0.8040 - val_recall: 0.7746
Epoch 265/300
61/61 [==============================] - 1s 10ms/step - loss: 0.4050 - accuracy: 0.7934 - precision: 0.8006 - recall: 0.7823 - val_loss: 0.4152 - val_accuracy: 0.7963 - val_precision: 0.8133 - val_recall: 0.7662
Epoch 266/300
61/61 [==============================] - 1s 10ms/step - loss: 0.4083 - accuracy: 0.7913 - precision: 0.8008 - recall: 0.7764 - val_loss: 0.4176 - val_accuracy: 0.7956 - val_precision: 0.8067 - val_recall: 0.7743
Epoch 267/300
61/61 [==============================] - 1s 9ms/step - loss: 0.4060 - accuracy: 0.7922 - precision: 0.8014 - recall: 0.7777 - val_loss: 0.4153 - val_accuracy: 0.7946 - val_precision: 0.8128 - val_recall: 0.7625
Epoch 268/300
61/61 [==============================] - 1s 9ms/step - loss: 0.4057 - accuracy: 0.7917 - precision: 0.7994 - recall: 0.7796 - val_loss: 0.4171 - val_accuracy: 0.7938 - val_precision: 0.8301 - val_recall: 0.7358
Epoch 269/300
61/61 [==============================] - 1s 9ms/step - loss: 0.4042 - accuracy: 0.7939 - precision: 0.8022 - recall: 0.7809 - val_loss: 0.4165 - val_accuracy: 0.7959 - val_precision: 0.8342 - val_recall: 0.7356
Epoch 270/300
61/61 [==============================] - 1s 9ms/step - loss: 0.4060 - accuracy: 0.7927 - precision: 0.8030 - recall: 0.7766 - val_loss: 0.4163 - val_accuracy: 0.7976 - val_precision: 0.8279 - val_recall: 0.7486
Epoch 271/300
61/61 [==============================] - 1s 9ms/step - loss: 0.4064 - accuracy: 0.7928 - precision: 0.8015 - recall: 0.7793 - val_loss: 0.4145 - val_accuracy: 0.7973 - val_precision: 0.8206 - val_recall: 0.7578
Epoch 272/300
61/61 [==============================] - 1s 9ms/step - loss: 0.4050 - accuracy: 0.7932 - precision: 0.8031 - recall: 0.7776 - val_loss: 0.4169 - val_accuracy: 0.7970 - val_precision: 0.8225 - val_recall: 0.7545
Epoch 273/300
61/61 [==============================] - 1s 9ms/step - loss: 0.4044 - accuracy: 0.7921 - precision: 0.7994 - recall: 0.7806 - val_loss: 0.4176 - val_accuracy: 0.7972 - val_precision: 0.8402 - val_recall: 0.7311
Epoch 274/300
61/61 [==============================] - 1s 9ms/step - loss: 0.4039 - accuracy: 0.7949 - precision: 0.8033 - recall: 0.7819 - val_loss: 0.4179 - val_accuracy: 0.7940 - val_precision: 0.8297 - val_recall: 0.7369
Epoch 275/300
61/61 [==============================] - 1s 9ms/step - loss: 0.4046 - accuracy: 0.7936 - precision: 0.8016 - recall: 0.7812 - val_loss: 0.4152 - val_accuracy: 0.7960 - val_precision: 0.8224 - val_recall: 0.7519
Epoch 276/300
61/61 [==============================] - 1s 9ms/step - loss: 0.4039 - accuracy: 0.7938 - precision: 0.7995 - recall: 0.7850 - val_loss: 0.4176 - val_accuracy: 0.7947 - val_precision: 0.8236 - val_recall: 0.7470
Epoch 277/300
61/61 [==============================] - 1s 9ms/step - loss: 0.4039 - accuracy: 0.7944 - precision: 0.8022 - recall: 0.7824 - val_loss: 0.4158 - val_accuracy: 0.7945 - val_precision: 0.8216 - val_recall: 0.7494
Epoch 278/300
61/61 [==============================] - 1s 9ms/step - loss: 0.4031 - accuracy: 0.7950 - precision: 0.8026 - recall: 0.7832 - val_loss: 0.4136 - val_accuracy: 0.7965 - val_precision: 0.8324 - val_recall: 0.7396
Epoch 279/300
61/61 [==============================] - 1s 9ms/step - loss: 0.4039 - accuracy: 0.7946 - precision: 0.8031 - recall: 0.7814 - val_loss: 0.4131 - val_accuracy: 0.7968 - val_precision: 0.7994 - val_recall: 0.7894
Epoch 280/300
61/61 [==============================] - 1s 9ms/step - loss: 0.4043 - accuracy: 0.7942 - precision: 0.8024 - recall: 0.7812 - val_loss: 0.4162 - val_accuracy: 0.7950 - val_precision: 0.8270 - val_recall: 0.7430
Epoch 281/300
61/61 [==============================] - 1s 9ms/step - loss: 0.4004 - accuracy: 0.7963 - precision: 0.8040 - recall: 0.7844 - val_loss: 0.4138 - val_accuracy: 0.7961 - val_precision: 0.8128 - val_recall: 0.7664
Epoch 282/300
61/61 [==============================] - 1s 9ms/step - loss: 0.4030 - accuracy: 0.7946 - precision: 0.8028 - recall: 0.7820 - val_loss: 0.4133 - val_accuracy: 0.7984 - val_precision: 0.8146 - val_recall: 0.7696
Epoch 283/300
61/61 [==============================] - 1s 9ms/step - loss: 0.4043 - accuracy: 0.7923 - precision: 0.8002 - recall: 0.7800 - val_loss: 0.4128 - val_accuracy: 0.7985 - val_precision: 0.8145 - val_recall: 0.7702
Epoch 284/300
61/61 [==============================] - 1s 9ms/step - loss: 0.4023 - accuracy: 0.7951 - precision: 0.8029 - recall: 0.7830 - val_loss: 0.4144 - val_accuracy: 0.7967 - val_precision: 0.8115 - val_recall: 0.7699
Epoch 285/300
61/61 [==============================] - 1s 10ms/step - loss: 0.4034 - accuracy: 0.7946 - precision: 0.8041 - recall: 0.7798 - val_loss: 0.4141 - val_accuracy: 0.7961 - val_precision: 0.8079 - val_recall: 0.7738
Epoch 286/300
61/61 [==============================] - 1s 10ms/step - loss: 0.4037 - accuracy: 0.7947 - precision: 0.8019 - recall: 0.7836 - val_loss: 0.4159 - val_accuracy: 0.7962 - val_precision: 0.8266 - val_recall: 0.7466
Epoch 287/300
61/61 [==============================] - 1s 9ms/step - loss: 0.4016 - accuracy: 0.7949 - precision: 0.8029 - recall: 0.7825 - val_loss: 0.4136 - val_accuracy: 0.7995 - val_precision: 0.8211 - val_recall: 0.7628
Epoch 288/300
61/61 [==============================] - 1s 9ms/step - loss: 0.4020 - accuracy: 0.7967 - precision: 0.8045 - recall: 0.7848 - val_loss: 0.4130 - val_accuracy: 0.7987 - val_precision: 0.8207 - val_recall: 0.7615
Epoch 289/300
61/61 [==============================] - 1s 9ms/step - loss: 0.4007 - accuracy: 0.7947 - precision: 0.8024 - recall: 0.7828 - val_loss: 0.4126 - val_accuracy: 0.7983 - val_precision: 0.8053 - val_recall: 0.7838
Epoch 290/300
61/61 [==============================] - 1s 9ms/step - loss: 0.4022 - accuracy: 0.7971 - precision: 0.8048 - recall: 0.7851 - val_loss: 0.4138 - val_accuracy: 0.7974 - val_precision: 0.8242 - val_recall: 0.7532
Epoch 291/300
61/61 [==============================] - 1s 9ms/step - loss: 0.4011 - accuracy: 0.7959 - precision: 0.8021 - recall: 0.7865 - val_loss: 0.4113 - val_accuracy: 0.7990 - val_precision: 0.8266 - val_recall: 0.7537
Epoch 292/300
61/61 [==============================] - 1s 9ms/step - loss: 0.3996 - accuracy: 0.7979 - precision: 0.8059 - recall: 0.7856 - val_loss: 0.4084 - val_accuracy: 0.8017 - val_precision: 0.8196 - val_recall: 0.7709
Epoch 293/300
61/61 [==============================] - 1s 9ms/step - loss: 0.4010 - accuracy: 0.7958 - precision: 0.8051 - recall: 0.7813 - val_loss: 0.4119 - val_accuracy: 0.8016 - val_precision: 0.8248 - val_recall: 0.7631
Epoch 294/300
61/61 [==============================] - 1s 9ms/step - loss: 0.4012 - accuracy: 0.7971 - precision: 0.8042 - recall: 0.7861 - val_loss: 0.4091 - val_accuracy: 0.7999 - val_precision: 0.8022 - val_recall: 0.7931
Epoch 295/300
61/61 [==============================] - 1s 9ms/step - loss: 0.4004 - accuracy: 0.7963 - precision: 0.8038 - recall: 0.7846 - val_loss: 0.4120 - val_accuracy: 0.8025 - val_precision: 0.8139 - val_recall: 0.7813
Epoch 296/300
61/61 [==============================] - 1s 10ms/step - loss: 0.4015 - accuracy: 0.7955 - precision: 0.8025 - recall: 0.7849 - val_loss: 0.4101 - val_accuracy: 0.8007 - val_precision: 0.8061 - val_recall: 0.7889
Epoch 297/300
61/61 [==============================] - 1s 9ms/step - loss: 0.4008 - accuracy: 0.7971 - precision: 0.8062 - recall: 0.7829 - val_loss: 0.4114 - val_accuracy: 0.8010 - val_precision: 0.8302 - val_recall: 0.7538
Epoch 298/300
61/61 [==============================] - 1s 9ms/step - loss: 0.3999 - accuracy: 0.7965 - precision: 0.8038 - recall: 0.7853 - val_loss: 0.4094 - val_accuracy: 0.8018 - val_precision: 0.8178 - val_recall: 0.7736
Epoch 299/300
61/61 [==============================] - 1s 10ms/step - loss: 0.4021 - accuracy: 0.7967 - precision: 0.8050 - recall: 0.7838 - val_loss: 0.4109 - val_accuracy: 0.8006 - val_precision: 0.8203 - val_recall: 0.7670
Epoch 300/300
61/61 [==============================] - 1s 10ms/step - loss: 0.3999 - accuracy: 0.7970 - precision: 0.8046 - recall: 0.7854 - val_loss: 0.4122 - val_accuracy: 0.8007 - val_precision: 0.8305 - val_recall: 0.7526
[ ]
plt.plot(history.history['accuracy'])
plt.plot(history.history['val_accuracy'])
plt.title('Model accuracy')
plt.ylabel('Accuracy')
plt.xlabel('Epoch')
plt.legend(['Train', 'Test'], loc='lower left')
plt.savefig(path+'/'+'acc.png')
plt.show()
account_circle

[ ]
model.save(Name+'.h5')

pd.DataFrame.from_dict(history.history).to_csv(Name+'.csv',index=False)
account_circle

[ ]
plt.plot(history.history['loss'])
plt.plot(history.history['val_loss'])
plt.title('Model Loss')
plt.ylabel('Loss')
plt.xlabel('Epoch')
plt.legend(['Train', 'Test'], loc='lower left')
plt.savefig(path+'/'+'acc.png')
plt.show()
account_circle

[ ]
import tensorflowjs as tfjs
tfjs.converters.save_keras_model(model,path+ 'model4'+"tfjsv3")
[ ]
import tensorflowjs as tfjs
tfjs.converters.save_keras_model(model,path+ 'model4'+"tfjsv3")
model.save(path+'model4.h5')
